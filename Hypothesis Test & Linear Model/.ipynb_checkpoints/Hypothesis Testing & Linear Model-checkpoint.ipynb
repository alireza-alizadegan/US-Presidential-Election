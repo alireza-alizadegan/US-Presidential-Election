{
 "cells": [
  {
   "cell_type": "markdown",
   "metadata": {},
   "source": [
    "# US Presidential Election Descriptive Analytics - Modeling"
   ]
  },
  {
   "cell_type": "markdown",
   "metadata": {},
   "source": [
    "This project builds on the results of the data cleaning and EDA to carry out \n",
    "a descriptive analytics on US presidential election data. First, correlation \n",
    "of various demographic factors with party vote shares are evaluated. Then, \n",
    "the difference between vote shares across 2012 and 2016 election cycles are\n",
    "statistically tested. Finally, a linear model describing the most important\n",
    "factors affecting election results is built and its prediction accuracy is \n",
    "evaluated. "
   ]
  },
  {
   "cell_type": "markdown",
   "metadata": {},
   "source": [
    "# Correlation of Demographic Factors with Election Results"
   ]
  },
  {
   "cell_type": "markdown",
   "metadata": {},
   "source": [
    "This section describes the methods used to analyze correlation of demographic\n",
    "factors with election results. First, clmeaned demographic and vote share data\n",
    "are imported and inspected as follows:"
   ]
  },
  {
   "cell_type": "code",
   "execution_count": 1,
   "metadata": {},
   "outputs": [],
   "source": [
    "import numpy as np\n",
    "import pandas as pd\n",
    "from scipy import stats\n",
    "import statsmodels.api as sm\n",
    "import matplotlib.pyplot as plt\n",
    "from statsmodels.stats.outliers_influence import variance_inflation_factor"
   ]
  },
  {
   "cell_type": "code",
   "execution_count": 2,
   "metadata": {
    "scrolled": true
   },
   "outputs": [
    {
     "data": {
      "text/html": [
       "<div>\n",
       "<style scoped>\n",
       "    .dataframe tbody tr th:only-of-type {\n",
       "        vertical-align: middle;\n",
       "    }\n",
       "\n",
       "    .dataframe tbody tr th {\n",
       "        vertical-align: top;\n",
       "    }\n",
       "\n",
       "    .dataframe thead th {\n",
       "        text-align: right;\n",
       "    }\n",
       "</style>\n",
       "<table border=\"1\" class=\"dataframe\">\n",
       "  <thead>\n",
       "    <tr style=\"text-align: right;\">\n",
       "      <th></th>\n",
       "      <th>Unnamed: 0</th>\n",
       "      <th>State</th>\n",
       "      <th>Fips</th>\n",
       "      <th>County</th>\n",
       "      <th>Precincts</th>\n",
       "      <th>Votes</th>\n",
       "      <th>Less Than High School Diploma</th>\n",
       "      <th>At Least High School Diploma</th>\n",
       "      <th>At Least Bachelors's Degree</th>\n",
       "      <th>Graduate Degree</th>\n",
       "      <th>...</th>\n",
       "      <th>Teen.births</th>\n",
       "      <th>Children.in.single.parent.households</th>\n",
       "      <th>Adult.smoking</th>\n",
       "      <th>Adult.obesity</th>\n",
       "      <th>Diabetes</th>\n",
       "      <th>Sexually.transmitted.infections</th>\n",
       "      <th>Uninsured</th>\n",
       "      <th>Unemployment</th>\n",
       "      <th>Violent.crime</th>\n",
       "      <th>Injury.deaths</th>\n",
       "    </tr>\n",
       "  </thead>\n",
       "  <tbody>\n",
       "    <tr>\n",
       "      <td>0</td>\n",
       "      <td>0</td>\n",
       "      <td>Arkansas</td>\n",
       "      <td>5043</td>\n",
       "      <td>Drew County, Arkansas</td>\n",
       "      <td>17.0</td>\n",
       "      <td>6590.0</td>\n",
       "      <td>19.4</td>\n",
       "      <td>80.6</td>\n",
       "      <td>19.4</td>\n",
       "      <td>5.7</td>\n",
       "      <td>...</td>\n",
       "      <td>47.7</td>\n",
       "      <td>0.429</td>\n",
       "      <td>0.181</td>\n",
       "      <td>0.323</td>\n",
       "      <td>0.126</td>\n",
       "      <td>747.3</td>\n",
       "      <td>0.197</td>\n",
       "      <td>0.108</td>\n",
       "      <td>449.02</td>\n",
       "      <td>82.0</td>\n",
       "    </tr>\n",
       "    <tr>\n",
       "      <td>1</td>\n",
       "      <td>1</td>\n",
       "      <td>Arkansas</td>\n",
       "      <td>5087</td>\n",
       "      <td>Madison County, Arkansas</td>\n",
       "      <td>20.0</td>\n",
       "      <td>6829.0</td>\n",
       "      <td>24.2</td>\n",
       "      <td>75.8</td>\n",
       "      <td>13.4</td>\n",
       "      <td>4.1</td>\n",
       "      <td>...</td>\n",
       "      <td>49.0</td>\n",
       "      <td>0.179</td>\n",
       "      <td>0.304</td>\n",
       "      <td>0.328</td>\n",
       "      <td>0.135</td>\n",
       "      <td>247.2</td>\n",
       "      <td>0.239</td>\n",
       "      <td>0.053</td>\n",
       "      <td>245.83</td>\n",
       "      <td>96.8</td>\n",
       "    </tr>\n",
       "    <tr>\n",
       "      <td>2</td>\n",
       "      <td>2</td>\n",
       "      <td>Georgia</td>\n",
       "      <td>13159</td>\n",
       "      <td>Jasper County, Georgia</td>\n",
       "      <td>3.0</td>\n",
       "      <td>6016.0</td>\n",
       "      <td>21.7</td>\n",
       "      <td>78.3</td>\n",
       "      <td>13.3</td>\n",
       "      <td>5.6</td>\n",
       "      <td>...</td>\n",
       "      <td>54.1</td>\n",
       "      <td>0.381</td>\n",
       "      <td>0.210</td>\n",
       "      <td>0.298</td>\n",
       "      <td>0.118</td>\n",
       "      <td>324.1</td>\n",
       "      <td>0.239</td>\n",
       "      <td>0.096</td>\n",
       "      <td>205.60</td>\n",
       "      <td>71.6</td>\n",
       "    </tr>\n",
       "    <tr>\n",
       "      <td>3</td>\n",
       "      <td>3</td>\n",
       "      <td>Colorado</td>\n",
       "      <td>8037</td>\n",
       "      <td>Eagle County, Colorado</td>\n",
       "      <td>30.0</td>\n",
       "      <td>22611.0</td>\n",
       "      <td>12.8</td>\n",
       "      <td>87.2</td>\n",
       "      <td>45.9</td>\n",
       "      <td>11.7</td>\n",
       "      <td>...</td>\n",
       "      <td>41.3</td>\n",
       "      <td>0.204</td>\n",
       "      <td>0.095</td>\n",
       "      <td>0.132</td>\n",
       "      <td>0.036</td>\n",
       "      <td>190.9</td>\n",
       "      <td>0.230</td>\n",
       "      <td>0.081</td>\n",
       "      <td>123.88</td>\n",
       "      <td>42.9</td>\n",
       "    </tr>\n",
       "    <tr>\n",
       "      <td>4</td>\n",
       "      <td>4</td>\n",
       "      <td>Georgia</td>\n",
       "      <td>13091</td>\n",
       "      <td>Dodge County, Georgia</td>\n",
       "      <td>16.0</td>\n",
       "      <td>6995.0</td>\n",
       "      <td>23.1</td>\n",
       "      <td>76.9</td>\n",
       "      <td>13.8</td>\n",
       "      <td>4.8</td>\n",
       "      <td>...</td>\n",
       "      <td>64.0</td>\n",
       "      <td>0.453</td>\n",
       "      <td>0.189</td>\n",
       "      <td>0.358</td>\n",
       "      <td>0.153</td>\n",
       "      <td>497.9</td>\n",
       "      <td>0.208</td>\n",
       "      <td>0.115</td>\n",
       "      <td>477.48</td>\n",
       "      <td>79.4</td>\n",
       "    </tr>\n",
       "  </tbody>\n",
       "</table>\n",
       "<p>5 rows × 44 columns</p>\n",
       "</div>"
      ],
      "text/plain": [
       "   Unnamed: 0     State   Fips                    County  Precincts    Votes  \\\n",
       "0           0  Arkansas   5043     Drew County, Arkansas       17.0   6590.0   \n",
       "1           1  Arkansas   5087  Madison County, Arkansas       20.0   6829.0   \n",
       "2           2   Georgia  13159    Jasper County, Georgia        3.0   6016.0   \n",
       "3           3  Colorado   8037    Eagle County, Colorado       30.0  22611.0   \n",
       "4           4   Georgia  13091     Dodge County, Georgia       16.0   6995.0   \n",
       "\n",
       "   Less Than High School Diploma  At Least High School Diploma  \\\n",
       "0                           19.4                          80.6   \n",
       "1                           24.2                          75.8   \n",
       "2                           21.7                          78.3   \n",
       "3                           12.8                          87.2   \n",
       "4                           23.1                          76.9   \n",
       "\n",
       "   At Least Bachelors's Degree  Graduate Degree  ...  Teen.births  \\\n",
       "0                         19.4              5.7  ...         47.7   \n",
       "1                         13.4              4.1  ...         49.0   \n",
       "2                         13.3              5.6  ...         54.1   \n",
       "3                         45.9             11.7  ...         41.3   \n",
       "4                         13.8              4.8  ...         64.0   \n",
       "\n",
       "   Children.in.single.parent.households  Adult.smoking  Adult.obesity  \\\n",
       "0                                 0.429          0.181          0.323   \n",
       "1                                 0.179          0.304          0.328   \n",
       "2                                 0.381          0.210          0.298   \n",
       "3                                 0.204          0.095          0.132   \n",
       "4                                 0.453          0.189          0.358   \n",
       "\n",
       "   Diabetes  Sexually.transmitted.infections  Uninsured  Unemployment  \\\n",
       "0     0.126                            747.3      0.197         0.108   \n",
       "1     0.135                            247.2      0.239         0.053   \n",
       "2     0.118                            324.1      0.239         0.096   \n",
       "3     0.036                            190.9      0.230         0.081   \n",
       "4     0.153                            497.9      0.208         0.115   \n",
       "\n",
       "   Violent.crime  Injury.deaths  \n",
       "0         449.02           82.0  \n",
       "1         245.83           96.8  \n",
       "2         205.60           71.6  \n",
       "3         123.88           42.9  \n",
       "4         477.48           79.4  \n",
       "\n",
       "[5 rows x 44 columns]"
      ]
     },
     "execution_count": 2,
     "metadata": {},
     "output_type": "execute_result"
    }
   ],
   "source": [
    "data_df = pd.read_csv('data_clean.csv')\n",
    "data_df.head()"
   ]
  },
  {
   "cell_type": "markdown",
   "metadata": {},
   "source": [
    "The first six columns are not demographic information and therefore useless for the purpose of the analysis in this project. \n",
    "Therefore, a new dataframe is created including only demographic information to simplify the scripts in the analysis."
   ]
  },
  {
   "cell_type": "code",
   "execution_count": 3,
   "metadata": {
    "scrolled": true
   },
   "outputs": [
    {
     "data": {
      "text/html": [
       "<div>\n",
       "<style scoped>\n",
       "    .dataframe tbody tr th:only-of-type {\n",
       "        vertical-align: middle;\n",
       "    }\n",
       "\n",
       "    .dataframe tbody tr th {\n",
       "        vertical-align: top;\n",
       "    }\n",
       "\n",
       "    .dataframe thead th {\n",
       "        text-align: right;\n",
       "    }\n",
       "</style>\n",
       "<table border=\"1\" class=\"dataframe\">\n",
       "  <thead>\n",
       "    <tr style=\"text-align: right;\">\n",
       "      <th></th>\n",
       "      <th>Precincts</th>\n",
       "      <th>Votes</th>\n",
       "      <th>Less Than High School Diploma</th>\n",
       "      <th>At Least High School Diploma</th>\n",
       "      <th>At Least Bachelors's Degree</th>\n",
       "      <th>Graduate Degree</th>\n",
       "      <th>School Enrollment</th>\n",
       "      <th>Median Earnings 2010</th>\n",
       "      <th>White (Not Latino) Population</th>\n",
       "      <th>African American Population</th>\n",
       "      <th>...</th>\n",
       "      <th>Teen.births</th>\n",
       "      <th>Children.in.single.parent.households</th>\n",
       "      <th>Adult.smoking</th>\n",
       "      <th>Adult.obesity</th>\n",
       "      <th>Diabetes</th>\n",
       "      <th>Sexually.transmitted.infections</th>\n",
       "      <th>Uninsured</th>\n",
       "      <th>Unemployment</th>\n",
       "      <th>Violent.crime</th>\n",
       "      <th>Injury.deaths</th>\n",
       "    </tr>\n",
       "  </thead>\n",
       "  <tbody>\n",
       "    <tr>\n",
       "      <td>0</td>\n",
       "      <td>17.0</td>\n",
       "      <td>6590.0</td>\n",
       "      <td>19.4</td>\n",
       "      <td>80.6</td>\n",
       "      <td>19.4</td>\n",
       "      <td>5.7</td>\n",
       "      <td>78.50</td>\n",
       "      <td>21988.947300</td>\n",
       "      <td>67.90</td>\n",
       "      <td>27.95</td>\n",
       "      <td>...</td>\n",
       "      <td>47.7</td>\n",
       "      <td>0.429</td>\n",
       "      <td>0.181</td>\n",
       "      <td>0.323</td>\n",
       "      <td>0.126</td>\n",
       "      <td>747.30</td>\n",
       "      <td>0.197</td>\n",
       "      <td>0.108</td>\n",
       "      <td>449.02</td>\n",
       "      <td>82.0</td>\n",
       "    </tr>\n",
       "    <tr>\n",
       "      <td>1</td>\n",
       "      <td>20.0</td>\n",
       "      <td>6829.0</td>\n",
       "      <td>24.2</td>\n",
       "      <td>75.8</td>\n",
       "      <td>13.4</td>\n",
       "      <td>4.1</td>\n",
       "      <td>76.40</td>\n",
       "      <td>23365.948890</td>\n",
       "      <td>92.00</td>\n",
       "      <td>0.25</td>\n",
       "      <td>...</td>\n",
       "      <td>49.0</td>\n",
       "      <td>0.179</td>\n",
       "      <td>0.304</td>\n",
       "      <td>0.328</td>\n",
       "      <td>0.135</td>\n",
       "      <td>247.20</td>\n",
       "      <td>0.239</td>\n",
       "      <td>0.053</td>\n",
       "      <td>245.83</td>\n",
       "      <td>96.8</td>\n",
       "    </tr>\n",
       "    <tr>\n",
       "      <td>2</td>\n",
       "      <td>3.0</td>\n",
       "      <td>6016.0</td>\n",
       "      <td>21.7</td>\n",
       "      <td>78.3</td>\n",
       "      <td>13.3</td>\n",
       "      <td>5.6</td>\n",
       "      <td>70.20</td>\n",
       "      <td>25363.060950</td>\n",
       "      <td>72.70</td>\n",
       "      <td>22.20</td>\n",
       "      <td>...</td>\n",
       "      <td>54.1</td>\n",
       "      <td>0.381</td>\n",
       "      <td>0.210</td>\n",
       "      <td>0.298</td>\n",
       "      <td>0.118</td>\n",
       "      <td>324.10</td>\n",
       "      <td>0.239</td>\n",
       "      <td>0.096</td>\n",
       "      <td>205.60</td>\n",
       "      <td>71.6</td>\n",
       "    </tr>\n",
       "    <tr>\n",
       "      <td>3</td>\n",
       "      <td>30.0</td>\n",
       "      <td>22611.0</td>\n",
       "      <td>12.8</td>\n",
       "      <td>87.2</td>\n",
       "      <td>45.9</td>\n",
       "      <td>11.7</td>\n",
       "      <td>64.10</td>\n",
       "      <td>35484.543175</td>\n",
       "      <td>68.40</td>\n",
       "      <td>0.30</td>\n",
       "      <td>...</td>\n",
       "      <td>41.3</td>\n",
       "      <td>0.204</td>\n",
       "      <td>0.095</td>\n",
       "      <td>0.132</td>\n",
       "      <td>0.036</td>\n",
       "      <td>190.90</td>\n",
       "      <td>0.230</td>\n",
       "      <td>0.081</td>\n",
       "      <td>123.88</td>\n",
       "      <td>42.9</td>\n",
       "    </tr>\n",
       "    <tr>\n",
       "      <td>4</td>\n",
       "      <td>16.0</td>\n",
       "      <td>6995.0</td>\n",
       "      <td>23.1</td>\n",
       "      <td>76.9</td>\n",
       "      <td>13.8</td>\n",
       "      <td>4.8</td>\n",
       "      <td>61.50</td>\n",
       "      <td>26927.608255</td>\n",
       "      <td>66.15</td>\n",
       "      <td>29.80</td>\n",
       "      <td>...</td>\n",
       "      <td>64.0</td>\n",
       "      <td>0.453</td>\n",
       "      <td>0.189</td>\n",
       "      <td>0.358</td>\n",
       "      <td>0.153</td>\n",
       "      <td>497.90</td>\n",
       "      <td>0.208</td>\n",
       "      <td>0.115</td>\n",
       "      <td>477.48</td>\n",
       "      <td>79.4</td>\n",
       "    </tr>\n",
       "    <tr>\n",
       "      <td>...</td>\n",
       "      <td>...</td>\n",
       "      <td>...</td>\n",
       "      <td>...</td>\n",
       "      <td>...</td>\n",
       "      <td>...</td>\n",
       "      <td>...</td>\n",
       "      <td>...</td>\n",
       "      <td>...</td>\n",
       "      <td>...</td>\n",
       "      <td>...</td>\n",
       "      <td>...</td>\n",
       "      <td>...</td>\n",
       "      <td>...</td>\n",
       "      <td>...</td>\n",
       "      <td>...</td>\n",
       "      <td>...</td>\n",
       "      <td>...</td>\n",
       "      <td>...</td>\n",
       "      <td>...</td>\n",
       "      <td>...</td>\n",
       "      <td>...</td>\n",
       "    </tr>\n",
       "    <tr>\n",
       "      <td>3136</td>\n",
       "      <td>282.0</td>\n",
       "      <td>168422.0</td>\n",
       "      <td>13.2</td>\n",
       "      <td>86.8</td>\n",
       "      <td>25.9</td>\n",
       "      <td>9.5</td>\n",
       "      <td>79.95</td>\n",
       "      <td>29687.650475</td>\n",
       "      <td>85.65</td>\n",
       "      <td>6.85</td>\n",
       "      <td>...</td>\n",
       "      <td>35.8</td>\n",
       "      <td>0.303</td>\n",
       "      <td>0.227</td>\n",
       "      <td>0.298</td>\n",
       "      <td>0.104</td>\n",
       "      <td>302.20</td>\n",
       "      <td>0.129</td>\n",
       "      <td>0.071</td>\n",
       "      <td>339.05</td>\n",
       "      <td>55.0</td>\n",
       "    </tr>\n",
       "    <tr>\n",
       "      <td>3137</td>\n",
       "      <td>38.0</td>\n",
       "      <td>21007.0</td>\n",
       "      <td>14.1</td>\n",
       "      <td>85.9</td>\n",
       "      <td>14.3</td>\n",
       "      <td>5.2</td>\n",
       "      <td>73.40</td>\n",
       "      <td>27308.285080</td>\n",
       "      <td>94.70</td>\n",
       "      <td>1.45</td>\n",
       "      <td>...</td>\n",
       "      <td>44.0</td>\n",
       "      <td>0.353</td>\n",
       "      <td>0.218</td>\n",
       "      <td>0.297</td>\n",
       "      <td>0.127</td>\n",
       "      <td>238.60</td>\n",
       "      <td>0.136</td>\n",
       "      <td>0.067</td>\n",
       "      <td>133.96</td>\n",
       "      <td>72.6</td>\n",
       "    </tr>\n",
       "    <tr>\n",
       "      <td>3138</td>\n",
       "      <td>188.0</td>\n",
       "      <td>136654.0</td>\n",
       "      <td>11.5</td>\n",
       "      <td>88.5</td>\n",
       "      <td>20.6</td>\n",
       "      <td>7.6</td>\n",
       "      <td>78.85</td>\n",
       "      <td>28555.704445</td>\n",
       "      <td>80.80</td>\n",
       "      <td>7.95</td>\n",
       "      <td>...</td>\n",
       "      <td>34.8</td>\n",
       "      <td>0.357</td>\n",
       "      <td>0.214</td>\n",
       "      <td>0.314</td>\n",
       "      <td>0.116</td>\n",
       "      <td>387.60</td>\n",
       "      <td>0.131</td>\n",
       "      <td>0.077</td>\n",
       "      <td>266.27</td>\n",
       "      <td>46.3</td>\n",
       "    </tr>\n",
       "    <tr>\n",
       "      <td>3139</td>\n",
       "      <td>24.0</td>\n",
       "      <td>16487.0</td>\n",
       "      <td>16.1</td>\n",
       "      <td>83.9</td>\n",
       "      <td>23.8</td>\n",
       "      <td>8.8</td>\n",
       "      <td>73.45</td>\n",
       "      <td>19592.309205</td>\n",
       "      <td>51.95</td>\n",
       "      <td>1.55</td>\n",
       "      <td>...</td>\n",
       "      <td>49.7</td>\n",
       "      <td>0.377</td>\n",
       "      <td>0.263</td>\n",
       "      <td>0.352</td>\n",
       "      <td>0.116</td>\n",
       "      <td>365.80</td>\n",
       "      <td>0.277</td>\n",
       "      <td>0.053</td>\n",
       "      <td>184.60</td>\n",
       "      <td>91.4</td>\n",
       "    </tr>\n",
       "    <tr>\n",
       "      <td>3140</td>\n",
       "      <td>6.0</td>\n",
       "      <td>1077.0</td>\n",
       "      <td>20.7</td>\n",
       "      <td>79.3</td>\n",
       "      <td>16.9</td>\n",
       "      <td>2.3</td>\n",
       "      <td>71.50</td>\n",
       "      <td>21491.442540</td>\n",
       "      <td>76.95</td>\n",
       "      <td>0.25</td>\n",
       "      <td>...</td>\n",
       "      <td>63.8</td>\n",
       "      <td>0.321</td>\n",
       "      <td>0.208</td>\n",
       "      <td>0.313</td>\n",
       "      <td>0.125</td>\n",
       "      <td>271.15</td>\n",
       "      <td>0.284</td>\n",
       "      <td>0.036</td>\n",
       "      <td>80.13</td>\n",
       "      <td>72.8</td>\n",
       "    </tr>\n",
       "  </tbody>\n",
       "</table>\n",
       "<p>3141 rows × 40 columns</p>\n",
       "</div>"
      ],
      "text/plain": [
       "      Precincts     Votes  Less Than High School Diploma  \\\n",
       "0          17.0    6590.0                           19.4   \n",
       "1          20.0    6829.0                           24.2   \n",
       "2           3.0    6016.0                           21.7   \n",
       "3          30.0   22611.0                           12.8   \n",
       "4          16.0    6995.0                           23.1   \n",
       "...         ...       ...                            ...   \n",
       "3136      282.0  168422.0                           13.2   \n",
       "3137       38.0   21007.0                           14.1   \n",
       "3138      188.0  136654.0                           11.5   \n",
       "3139       24.0   16487.0                           16.1   \n",
       "3140        6.0    1077.0                           20.7   \n",
       "\n",
       "      At Least High School Diploma  At Least Bachelors's Degree  \\\n",
       "0                             80.6                         19.4   \n",
       "1                             75.8                         13.4   \n",
       "2                             78.3                         13.3   \n",
       "3                             87.2                         45.9   \n",
       "4                             76.9                         13.8   \n",
       "...                            ...                          ...   \n",
       "3136                          86.8                         25.9   \n",
       "3137                          85.9                         14.3   \n",
       "3138                          88.5                         20.6   \n",
       "3139                          83.9                         23.8   \n",
       "3140                          79.3                         16.9   \n",
       "\n",
       "      Graduate Degree  School Enrollment  Median Earnings 2010  \\\n",
       "0                 5.7              78.50          21988.947300   \n",
       "1                 4.1              76.40          23365.948890   \n",
       "2                 5.6              70.20          25363.060950   \n",
       "3                11.7              64.10          35484.543175   \n",
       "4                 4.8              61.50          26927.608255   \n",
       "...               ...                ...                   ...   \n",
       "3136              9.5              79.95          29687.650475   \n",
       "3137              5.2              73.40          27308.285080   \n",
       "3138              7.6              78.85          28555.704445   \n",
       "3139              8.8              73.45          19592.309205   \n",
       "3140              2.3              71.50          21491.442540   \n",
       "\n",
       "      White (Not Latino) Population  African American Population  ...  \\\n",
       "0                             67.90                        27.95  ...   \n",
       "1                             92.00                         0.25  ...   \n",
       "2                             72.70                        22.20  ...   \n",
       "3                             68.40                         0.30  ...   \n",
       "4                             66.15                        29.80  ...   \n",
       "...                             ...                          ...  ...   \n",
       "3136                          85.65                         6.85  ...   \n",
       "3137                          94.70                         1.45  ...   \n",
       "3138                          80.80                         7.95  ...   \n",
       "3139                          51.95                         1.55  ...   \n",
       "3140                          76.95                         0.25  ...   \n",
       "\n",
       "      Teen.births  Children.in.single.parent.households  Adult.smoking  \\\n",
       "0            47.7                                 0.429          0.181   \n",
       "1            49.0                                 0.179          0.304   \n",
       "2            54.1                                 0.381          0.210   \n",
       "3            41.3                                 0.204          0.095   \n",
       "4            64.0                                 0.453          0.189   \n",
       "...           ...                                   ...            ...   \n",
       "3136         35.8                                 0.303          0.227   \n",
       "3137         44.0                                 0.353          0.218   \n",
       "3138         34.8                                 0.357          0.214   \n",
       "3139         49.7                                 0.377          0.263   \n",
       "3140         63.8                                 0.321          0.208   \n",
       "\n",
       "      Adult.obesity  Diabetes  Sexually.transmitted.infections  Uninsured  \\\n",
       "0             0.323     0.126                           747.30      0.197   \n",
       "1             0.328     0.135                           247.20      0.239   \n",
       "2             0.298     0.118                           324.10      0.239   \n",
       "3             0.132     0.036                           190.90      0.230   \n",
       "4             0.358     0.153                           497.90      0.208   \n",
       "...             ...       ...                              ...        ...   \n",
       "3136          0.298     0.104                           302.20      0.129   \n",
       "3137          0.297     0.127                           238.60      0.136   \n",
       "3138          0.314     0.116                           387.60      0.131   \n",
       "3139          0.352     0.116                           365.80      0.277   \n",
       "3140          0.313     0.125                           271.15      0.284   \n",
       "\n",
       "      Unemployment  Violent.crime  Injury.deaths  \n",
       "0            0.108         449.02           82.0  \n",
       "1            0.053         245.83           96.8  \n",
       "2            0.096         205.60           71.6  \n",
       "3            0.081         123.88           42.9  \n",
       "4            0.115         477.48           79.4  \n",
       "...            ...            ...            ...  \n",
       "3136         0.071         339.05           55.0  \n",
       "3137         0.067         133.96           72.6  \n",
       "3138         0.077         266.27           46.3  \n",
       "3139         0.053         184.60           91.4  \n",
       "3140         0.036          80.13           72.8  \n",
       "\n",
       "[3141 rows x 40 columns]"
      ]
     },
     "execution_count": 3,
     "metadata": {},
     "output_type": "execute_result"
    }
   ],
   "source": [
    "demo_df = data_df.drop(['Unnamed: 0', 'State', 'Fips', 'County'], axis = 'columns')\n",
    "demo_df"
   ]
  },
  {
   "cell_type": "markdown",
   "metadata": {},
   "source": [
    "The results in the buttom of the table shows that there are 40 demographic factors available in this dataset for 3141 counties in US."
   ]
  },
  {
   "cell_type": "code",
   "execution_count": 4,
   "metadata": {},
   "outputs": [
    {
     "data": {
      "text/html": [
       "<div>\n",
       "<style scoped>\n",
       "    .dataframe tbody tr th:only-of-type {\n",
       "        vertical-align: middle;\n",
       "    }\n",
       "\n",
       "    .dataframe tbody tr th {\n",
       "        vertical-align: top;\n",
       "    }\n",
       "\n",
       "    .dataframe thead th {\n",
       "        text-align: right;\n",
       "    }\n",
       "</style>\n",
       "<table border=\"1\" class=\"dataframe\">\n",
       "  <thead>\n",
       "    <tr style=\"text-align: right;\">\n",
       "      <th></th>\n",
       "      <th>Precincts</th>\n",
       "      <th>Votes</th>\n",
       "      <th>Less Than High School Diploma</th>\n",
       "      <th>At Least High School Diploma</th>\n",
       "      <th>At Least Bachelors's Degree</th>\n",
       "      <th>Graduate Degree</th>\n",
       "      <th>School Enrollment</th>\n",
       "      <th>Median Earnings 2010</th>\n",
       "      <th>White (Not Latino) Population</th>\n",
       "      <th>African American Population</th>\n",
       "      <th>...</th>\n",
       "      <th>Teen.births</th>\n",
       "      <th>Children.in.single.parent.households</th>\n",
       "      <th>Adult.smoking</th>\n",
       "      <th>Adult.obesity</th>\n",
       "      <th>Diabetes</th>\n",
       "      <th>Sexually.transmitted.infections</th>\n",
       "      <th>Uninsured</th>\n",
       "      <th>Unemployment</th>\n",
       "      <th>Violent.crime</th>\n",
       "      <th>Injury.deaths</th>\n",
       "    </tr>\n",
       "  </thead>\n",
       "  <tbody>\n",
       "    <tr>\n",
       "      <td>0</td>\n",
       "      <td>17.0</td>\n",
       "      <td>6590.0</td>\n",
       "      <td>19.4</td>\n",
       "      <td>80.6</td>\n",
       "      <td>19.4</td>\n",
       "      <td>5.7</td>\n",
       "      <td>78.50</td>\n",
       "      <td>21988.947300</td>\n",
       "      <td>67.90</td>\n",
       "      <td>27.95</td>\n",
       "      <td>...</td>\n",
       "      <td>47.7</td>\n",
       "      <td>0.429</td>\n",
       "      <td>0.181</td>\n",
       "      <td>0.323</td>\n",
       "      <td>0.126</td>\n",
       "      <td>747.30</td>\n",
       "      <td>0.197</td>\n",
       "      <td>0.108</td>\n",
       "      <td>449.02</td>\n",
       "      <td>82.0</td>\n",
       "    </tr>\n",
       "    <tr>\n",
       "      <td>1</td>\n",
       "      <td>20.0</td>\n",
       "      <td>6829.0</td>\n",
       "      <td>24.2</td>\n",
       "      <td>75.8</td>\n",
       "      <td>13.4</td>\n",
       "      <td>4.1</td>\n",
       "      <td>76.40</td>\n",
       "      <td>23365.948890</td>\n",
       "      <td>92.00</td>\n",
       "      <td>0.25</td>\n",
       "      <td>...</td>\n",
       "      <td>49.0</td>\n",
       "      <td>0.179</td>\n",
       "      <td>0.304</td>\n",
       "      <td>0.328</td>\n",
       "      <td>0.135</td>\n",
       "      <td>247.20</td>\n",
       "      <td>0.239</td>\n",
       "      <td>0.053</td>\n",
       "      <td>245.83</td>\n",
       "      <td>96.8</td>\n",
       "    </tr>\n",
       "    <tr>\n",
       "      <td>2</td>\n",
       "      <td>3.0</td>\n",
       "      <td>6016.0</td>\n",
       "      <td>21.7</td>\n",
       "      <td>78.3</td>\n",
       "      <td>13.3</td>\n",
       "      <td>5.6</td>\n",
       "      <td>70.20</td>\n",
       "      <td>25363.060950</td>\n",
       "      <td>72.70</td>\n",
       "      <td>22.20</td>\n",
       "      <td>...</td>\n",
       "      <td>54.1</td>\n",
       "      <td>0.381</td>\n",
       "      <td>0.210</td>\n",
       "      <td>0.298</td>\n",
       "      <td>0.118</td>\n",
       "      <td>324.10</td>\n",
       "      <td>0.239</td>\n",
       "      <td>0.096</td>\n",
       "      <td>205.60</td>\n",
       "      <td>71.6</td>\n",
       "    </tr>\n",
       "    <tr>\n",
       "      <td>3</td>\n",
       "      <td>30.0</td>\n",
       "      <td>22611.0</td>\n",
       "      <td>12.8</td>\n",
       "      <td>87.2</td>\n",
       "      <td>45.9</td>\n",
       "      <td>11.7</td>\n",
       "      <td>64.10</td>\n",
       "      <td>35484.543175</td>\n",
       "      <td>68.40</td>\n",
       "      <td>0.30</td>\n",
       "      <td>...</td>\n",
       "      <td>41.3</td>\n",
       "      <td>0.204</td>\n",
       "      <td>0.095</td>\n",
       "      <td>0.132</td>\n",
       "      <td>0.036</td>\n",
       "      <td>190.90</td>\n",
       "      <td>0.230</td>\n",
       "      <td>0.081</td>\n",
       "      <td>123.88</td>\n",
       "      <td>42.9</td>\n",
       "    </tr>\n",
       "    <tr>\n",
       "      <td>4</td>\n",
       "      <td>16.0</td>\n",
       "      <td>6995.0</td>\n",
       "      <td>23.1</td>\n",
       "      <td>76.9</td>\n",
       "      <td>13.8</td>\n",
       "      <td>4.8</td>\n",
       "      <td>61.50</td>\n",
       "      <td>26927.608255</td>\n",
       "      <td>66.15</td>\n",
       "      <td>29.80</td>\n",
       "      <td>...</td>\n",
       "      <td>64.0</td>\n",
       "      <td>0.453</td>\n",
       "      <td>0.189</td>\n",
       "      <td>0.358</td>\n",
       "      <td>0.153</td>\n",
       "      <td>497.90</td>\n",
       "      <td>0.208</td>\n",
       "      <td>0.115</td>\n",
       "      <td>477.48</td>\n",
       "      <td>79.4</td>\n",
       "    </tr>\n",
       "    <tr>\n",
       "      <td>...</td>\n",
       "      <td>...</td>\n",
       "      <td>...</td>\n",
       "      <td>...</td>\n",
       "      <td>...</td>\n",
       "      <td>...</td>\n",
       "      <td>...</td>\n",
       "      <td>...</td>\n",
       "      <td>...</td>\n",
       "      <td>...</td>\n",
       "      <td>...</td>\n",
       "      <td>...</td>\n",
       "      <td>...</td>\n",
       "      <td>...</td>\n",
       "      <td>...</td>\n",
       "      <td>...</td>\n",
       "      <td>...</td>\n",
       "      <td>...</td>\n",
       "      <td>...</td>\n",
       "      <td>...</td>\n",
       "      <td>...</td>\n",
       "      <td>...</td>\n",
       "    </tr>\n",
       "    <tr>\n",
       "      <td>3136</td>\n",
       "      <td>282.0</td>\n",
       "      <td>168422.0</td>\n",
       "      <td>13.2</td>\n",
       "      <td>86.8</td>\n",
       "      <td>25.9</td>\n",
       "      <td>9.5</td>\n",
       "      <td>79.95</td>\n",
       "      <td>29687.650475</td>\n",
       "      <td>85.65</td>\n",
       "      <td>6.85</td>\n",
       "      <td>...</td>\n",
       "      <td>35.8</td>\n",
       "      <td>0.303</td>\n",
       "      <td>0.227</td>\n",
       "      <td>0.298</td>\n",
       "      <td>0.104</td>\n",
       "      <td>302.20</td>\n",
       "      <td>0.129</td>\n",
       "      <td>0.071</td>\n",
       "      <td>339.05</td>\n",
       "      <td>55.0</td>\n",
       "    </tr>\n",
       "    <tr>\n",
       "      <td>3137</td>\n",
       "      <td>38.0</td>\n",
       "      <td>21007.0</td>\n",
       "      <td>14.1</td>\n",
       "      <td>85.9</td>\n",
       "      <td>14.3</td>\n",
       "      <td>5.2</td>\n",
       "      <td>73.40</td>\n",
       "      <td>27308.285080</td>\n",
       "      <td>94.70</td>\n",
       "      <td>1.45</td>\n",
       "      <td>...</td>\n",
       "      <td>44.0</td>\n",
       "      <td>0.353</td>\n",
       "      <td>0.218</td>\n",
       "      <td>0.297</td>\n",
       "      <td>0.127</td>\n",
       "      <td>238.60</td>\n",
       "      <td>0.136</td>\n",
       "      <td>0.067</td>\n",
       "      <td>133.96</td>\n",
       "      <td>72.6</td>\n",
       "    </tr>\n",
       "    <tr>\n",
       "      <td>3138</td>\n",
       "      <td>188.0</td>\n",
       "      <td>136654.0</td>\n",
       "      <td>11.5</td>\n",
       "      <td>88.5</td>\n",
       "      <td>20.6</td>\n",
       "      <td>7.6</td>\n",
       "      <td>78.85</td>\n",
       "      <td>28555.704445</td>\n",
       "      <td>80.80</td>\n",
       "      <td>7.95</td>\n",
       "      <td>...</td>\n",
       "      <td>34.8</td>\n",
       "      <td>0.357</td>\n",
       "      <td>0.214</td>\n",
       "      <td>0.314</td>\n",
       "      <td>0.116</td>\n",
       "      <td>387.60</td>\n",
       "      <td>0.131</td>\n",
       "      <td>0.077</td>\n",
       "      <td>266.27</td>\n",
       "      <td>46.3</td>\n",
       "    </tr>\n",
       "    <tr>\n",
       "      <td>3139</td>\n",
       "      <td>24.0</td>\n",
       "      <td>16487.0</td>\n",
       "      <td>16.1</td>\n",
       "      <td>83.9</td>\n",
       "      <td>23.8</td>\n",
       "      <td>8.8</td>\n",
       "      <td>73.45</td>\n",
       "      <td>19592.309205</td>\n",
       "      <td>51.95</td>\n",
       "      <td>1.55</td>\n",
       "      <td>...</td>\n",
       "      <td>49.7</td>\n",
       "      <td>0.377</td>\n",
       "      <td>0.263</td>\n",
       "      <td>0.352</td>\n",
       "      <td>0.116</td>\n",
       "      <td>365.80</td>\n",
       "      <td>0.277</td>\n",
       "      <td>0.053</td>\n",
       "      <td>184.60</td>\n",
       "      <td>91.4</td>\n",
       "    </tr>\n",
       "    <tr>\n",
       "      <td>3140</td>\n",
       "      <td>6.0</td>\n",
       "      <td>1077.0</td>\n",
       "      <td>20.7</td>\n",
       "      <td>79.3</td>\n",
       "      <td>16.9</td>\n",
       "      <td>2.3</td>\n",
       "      <td>71.50</td>\n",
       "      <td>21491.442540</td>\n",
       "      <td>76.95</td>\n",
       "      <td>0.25</td>\n",
       "      <td>...</td>\n",
       "      <td>63.8</td>\n",
       "      <td>0.321</td>\n",
       "      <td>0.208</td>\n",
       "      <td>0.313</td>\n",
       "      <td>0.125</td>\n",
       "      <td>271.15</td>\n",
       "      <td>0.284</td>\n",
       "      <td>0.036</td>\n",
       "      <td>80.13</td>\n",
       "      <td>72.8</td>\n",
       "    </tr>\n",
       "  </tbody>\n",
       "</table>\n",
       "<p>3141 rows × 40 columns</p>\n",
       "</div>"
      ],
      "text/plain": [
       "      Precincts     Votes  Less Than High School Diploma  \\\n",
       "0          17.0    6590.0                           19.4   \n",
       "1          20.0    6829.0                           24.2   \n",
       "2           3.0    6016.0                           21.7   \n",
       "3          30.0   22611.0                           12.8   \n",
       "4          16.0    6995.0                           23.1   \n",
       "...         ...       ...                            ...   \n",
       "3136      282.0  168422.0                           13.2   \n",
       "3137       38.0   21007.0                           14.1   \n",
       "3138      188.0  136654.0                           11.5   \n",
       "3139       24.0   16487.0                           16.1   \n",
       "3140        6.0    1077.0                           20.7   \n",
       "\n",
       "      At Least High School Diploma  At Least Bachelors's Degree  \\\n",
       "0                             80.6                         19.4   \n",
       "1                             75.8                         13.4   \n",
       "2                             78.3                         13.3   \n",
       "3                             87.2                         45.9   \n",
       "4                             76.9                         13.8   \n",
       "...                            ...                          ...   \n",
       "3136                          86.8                         25.9   \n",
       "3137                          85.9                         14.3   \n",
       "3138                          88.5                         20.6   \n",
       "3139                          83.9                         23.8   \n",
       "3140                          79.3                         16.9   \n",
       "\n",
       "      Graduate Degree  School Enrollment  Median Earnings 2010  \\\n",
       "0                 5.7              78.50          21988.947300   \n",
       "1                 4.1              76.40          23365.948890   \n",
       "2                 5.6              70.20          25363.060950   \n",
       "3                11.7              64.10          35484.543175   \n",
       "4                 4.8              61.50          26927.608255   \n",
       "...               ...                ...                   ...   \n",
       "3136              9.5              79.95          29687.650475   \n",
       "3137              5.2              73.40          27308.285080   \n",
       "3138              7.6              78.85          28555.704445   \n",
       "3139              8.8              73.45          19592.309205   \n",
       "3140              2.3              71.50          21491.442540   \n",
       "\n",
       "      White (Not Latino) Population  African American Population  ...  \\\n",
       "0                             67.90                        27.95  ...   \n",
       "1                             92.00                         0.25  ...   \n",
       "2                             72.70                        22.20  ...   \n",
       "3                             68.40                         0.30  ...   \n",
       "4                             66.15                        29.80  ...   \n",
       "...                             ...                          ...  ...   \n",
       "3136                          85.65                         6.85  ...   \n",
       "3137                          94.70                         1.45  ...   \n",
       "3138                          80.80                         7.95  ...   \n",
       "3139                          51.95                         1.55  ...   \n",
       "3140                          76.95                         0.25  ...   \n",
       "\n",
       "      Teen.births  Children.in.single.parent.households  Adult.smoking  \\\n",
       "0            47.7                                 0.429          0.181   \n",
       "1            49.0                                 0.179          0.304   \n",
       "2            54.1                                 0.381          0.210   \n",
       "3            41.3                                 0.204          0.095   \n",
       "4            64.0                                 0.453          0.189   \n",
       "...           ...                                   ...            ...   \n",
       "3136         35.8                                 0.303          0.227   \n",
       "3137         44.0                                 0.353          0.218   \n",
       "3138         34.8                                 0.357          0.214   \n",
       "3139         49.7                                 0.377          0.263   \n",
       "3140         63.8                                 0.321          0.208   \n",
       "\n",
       "      Adult.obesity  Diabetes  Sexually.transmitted.infections  Uninsured  \\\n",
       "0             0.323     0.126                           747.30      0.197   \n",
       "1             0.328     0.135                           247.20      0.239   \n",
       "2             0.298     0.118                           324.10      0.239   \n",
       "3             0.132     0.036                           190.90      0.230   \n",
       "4             0.358     0.153                           497.90      0.208   \n",
       "...             ...       ...                              ...        ...   \n",
       "3136          0.298     0.104                           302.20      0.129   \n",
       "3137          0.297     0.127                           238.60      0.136   \n",
       "3138          0.314     0.116                           387.60      0.131   \n",
       "3139          0.352     0.116                           365.80      0.277   \n",
       "3140          0.313     0.125                           271.15      0.284   \n",
       "\n",
       "      Unemployment  Violent.crime  Injury.deaths  \n",
       "0            0.108         449.02           82.0  \n",
       "1            0.053         245.83           96.8  \n",
       "2            0.096         205.60           71.6  \n",
       "3            0.081         123.88           42.9  \n",
       "4            0.115         477.48           79.4  \n",
       "...            ...            ...            ...  \n",
       "3136         0.071         339.05           55.0  \n",
       "3137         0.067         133.96           72.6  \n",
       "3138         0.077         266.27           46.3  \n",
       "3139         0.053         184.60           91.4  \n",
       "3140         0.036          80.13           72.8  \n",
       "\n",
       "[3141 rows x 40 columns]"
      ]
     },
     "execution_count": 4,
     "metadata": {},
     "output_type": "execute_result"
    }
   ],
   "source": [
    "demo_df"
   ]
  },
  {
   "cell_type": "code",
   "execution_count": 5,
   "metadata": {
    "scrolled": true
   },
   "outputs": [
    {
     "data": {
      "text/html": [
       "<div>\n",
       "<style scoped>\n",
       "    .dataframe tbody tr th:only-of-type {\n",
       "        vertical-align: middle;\n",
       "    }\n",
       "\n",
       "    .dataframe tbody tr th {\n",
       "        vertical-align: top;\n",
       "    }\n",
       "\n",
       "    .dataframe thead th {\n",
       "        text-align: right;\n",
       "    }\n",
       "</style>\n",
       "<table border=\"1\" class=\"dataframe\">\n",
       "  <thead>\n",
       "    <tr style=\"text-align: right;\">\n",
       "      <th></th>\n",
       "      <th>Unnamed: 0</th>\n",
       "      <th>Democrats_12(Votes)</th>\n",
       "      <th>Republicans_12(Votes)</th>\n",
       "      <th>Democrats_16(Votes)</th>\n",
       "      <th>Republicans_16(Votes)</th>\n",
       "      <th>Democrats12_VoteShare</th>\n",
       "      <th>Republicans12_VoteShare</th>\n",
       "      <th>Democrats16_VoteShare</th>\n",
       "      <th>Republicans16_VoteShare</th>\n",
       "    </tr>\n",
       "  </thead>\n",
       "  <tbody>\n",
       "    <tr>\n",
       "      <td>0</td>\n",
       "      <td>0</td>\n",
       "      <td>2630.0</td>\n",
       "      <td>3887.0</td>\n",
       "      <td>2364.0</td>\n",
       "      <td>3967.0</td>\n",
       "      <td>40.36</td>\n",
       "      <td>59.64</td>\n",
       "      <td>37.34</td>\n",
       "      <td>62.66</td>\n",
       "    </tr>\n",
       "    <tr>\n",
       "      <td>1</td>\n",
       "      <td>1</td>\n",
       "      <td>2099.0</td>\n",
       "      <td>4263.0</td>\n",
       "      <td>1587.0</td>\n",
       "      <td>4917.0</td>\n",
       "      <td>32.99</td>\n",
       "      <td>67.01</td>\n",
       "      <td>24.40</td>\n",
       "      <td>75.60</td>\n",
       "    </tr>\n",
       "    <tr>\n",
       "      <td>2</td>\n",
       "      <td>2</td>\n",
       "      <td>1845.0</td>\n",
       "      <td>4136.0</td>\n",
       "      <td>1544.0</td>\n",
       "      <td>4353.0</td>\n",
       "      <td>30.85</td>\n",
       "      <td>69.15</td>\n",
       "      <td>26.18</td>\n",
       "      <td>73.82</td>\n",
       "    </tr>\n",
       "    <tr>\n",
       "      <td>3</td>\n",
       "      <td>3</td>\n",
       "      <td>12792.0</td>\n",
       "      <td>9411.0</td>\n",
       "      <td>12652.0</td>\n",
       "      <td>8153.0</td>\n",
       "      <td>57.61</td>\n",
       "      <td>42.39</td>\n",
       "      <td>60.81</td>\n",
       "      <td>39.19</td>\n",
       "    </tr>\n",
       "    <tr>\n",
       "      <td>4</td>\n",
       "      <td>4</td>\n",
       "      <td>2442.0</td>\n",
       "      <td>5214.0</td>\n",
       "      <td>1836.0</td>\n",
       "      <td>5021.0</td>\n",
       "      <td>31.90</td>\n",
       "      <td>68.10</td>\n",
       "      <td>26.78</td>\n",
       "      <td>73.22</td>\n",
       "    </tr>\n",
       "  </tbody>\n",
       "</table>\n",
       "</div>"
      ],
      "text/plain": [
       "   Unnamed: 0  Democrats_12(Votes)  Republicans_12(Votes)  \\\n",
       "0           0               2630.0                 3887.0   \n",
       "1           1               2099.0                 4263.0   \n",
       "2           2               1845.0                 4136.0   \n",
       "3           3              12792.0                 9411.0   \n",
       "4           4               2442.0                 5214.0   \n",
       "\n",
       "   Democrats_16(Votes)  Republicans_16(Votes)  Democrats12_VoteShare  \\\n",
       "0               2364.0                 3967.0                  40.36   \n",
       "1               1587.0                 4917.0                  32.99   \n",
       "2               1544.0                 4353.0                  30.85   \n",
       "3              12652.0                 8153.0                  57.61   \n",
       "4               1836.0                 5021.0                  31.90   \n",
       "\n",
       "   Republicans12_VoteShare  Democrats16_VoteShare  Republicans16_VoteShare  \n",
       "0                    59.64                  37.34                    62.66  \n",
       "1                    67.01                  24.40                    75.60  \n",
       "2                    69.15                  26.18                    73.82  \n",
       "3                    42.39                  60.81                    39.19  \n",
       "4                    68.10                  26.78                    73.22  "
      ]
     },
     "execution_count": 5,
     "metadata": {},
     "output_type": "execute_result"
    }
   ],
   "source": [
    "vote_df = pd.read_csv('votes_clean.csv')\n",
    "vote_df.head()"
   ]
  },
  {
   "cell_type": "markdown",
   "metadata": {},
   "source": [
    "The correlation of each demographic factor with election results as well as \n",
    "its statisticical significance is calculated and tabulated. The table is\n",
    "sorted by the absolute value of the correlation to highlight highly\n",
    "correlated demographic factors. The table is generated for both 2012 and 2016 election cycles to investigate the change of correlated factors over time."
   ]
  },
  {
   "cell_type": "code",
   "execution_count": 6,
   "metadata": {
    "scrolled": true
   },
   "outputs": [
    {
     "data": {
      "text/html": [
       "<div>\n",
       "<style scoped>\n",
       "    .dataframe tbody tr th:only-of-type {\n",
       "        vertical-align: middle;\n",
       "    }\n",
       "\n",
       "    .dataframe tbody tr th {\n",
       "        vertical-align: top;\n",
       "    }\n",
       "\n",
       "    .dataframe thead th {\n",
       "        text-align: right;\n",
       "    }\n",
       "</style>\n",
       "<table border=\"1\" class=\"dataframe\">\n",
       "  <thead>\n",
       "    <tr style=\"text-align: right;\">\n",
       "      <th></th>\n",
       "      <th>Demographic info</th>\n",
       "      <th>abs_corr12</th>\n",
       "      <th>corr12</th>\n",
       "      <th>p_value12</th>\n",
       "    </tr>\n",
       "  </thead>\n",
       "  <tbody>\n",
       "    <tr>\n",
       "      <td>0</td>\n",
       "      <td>White (Not Latino) Population</td>\n",
       "      <td>0.437955</td>\n",
       "      <td>0.437955</td>\n",
       "      <td>2.284088e-147</td>\n",
       "    </tr>\n",
       "    <tr>\n",
       "      <td>1</td>\n",
       "      <td>Children.in.single.parent.households</td>\n",
       "      <td>0.427325</td>\n",
       "      <td>-0.427325</td>\n",
       "      <td>1.210057e-139</td>\n",
       "    </tr>\n",
       "    <tr>\n",
       "      <td>2</td>\n",
       "      <td>Sexually.transmitted.infections</td>\n",
       "      <td>0.414017</td>\n",
       "      <td>-0.414017</td>\n",
       "      <td>2.344544e-130</td>\n",
       "    </tr>\n",
       "    <tr>\n",
       "      <td>3</td>\n",
       "      <td>African American Population</td>\n",
       "      <td>0.392567</td>\n",
       "      <td>-0.392567</td>\n",
       "      <td>3.012613e-116</td>\n",
       "    </tr>\n",
       "    <tr>\n",
       "      <td>4</td>\n",
       "      <td>Graduate Degree</td>\n",
       "      <td>0.369278</td>\n",
       "      <td>-0.369278</td>\n",
       "      <td>4.517001e-102</td>\n",
       "    </tr>\n",
       "    <tr>\n",
       "      <td>5</td>\n",
       "      <td>Construction.extraction.maintenance.and.repair...</td>\n",
       "      <td>0.345326</td>\n",
       "      <td>0.345326</td>\n",
       "      <td>1.149040e-88</td>\n",
       "    </tr>\n",
       "    <tr>\n",
       "      <td>6</td>\n",
       "      <td>Unemployment</td>\n",
       "      <td>0.328212</td>\n",
       "      <td>-0.328212</td>\n",
       "      <td>8.815779e-80</td>\n",
       "    </tr>\n",
       "    <tr>\n",
       "      <td>7</td>\n",
       "      <td>Asian American Population</td>\n",
       "      <td>0.304657</td>\n",
       "      <td>-0.304657</td>\n",
       "      <td>1.867132e-68</td>\n",
       "    </tr>\n",
       "    <tr>\n",
       "      <td>8</td>\n",
       "      <td>At Least Bachelors's Degree</td>\n",
       "      <td>0.303216</td>\n",
       "      <td>-0.303216</td>\n",
       "      <td>8.532572e-68</td>\n",
       "    </tr>\n",
       "    <tr>\n",
       "      <td>9</td>\n",
       "      <td>Votes</td>\n",
       "      <td>0.302003</td>\n",
       "      <td>-0.302003</td>\n",
       "      <td>3.047631e-67</td>\n",
       "    </tr>\n",
       "    <tr>\n",
       "      <td>10</td>\n",
       "      <td>Violent.crime</td>\n",
       "      <td>0.299639</td>\n",
       "      <td>-0.299639</td>\n",
       "      <td>3.573177e-66</td>\n",
       "    </tr>\n",
       "    <tr>\n",
       "      <td>11</td>\n",
       "      <td>SIRE_homogeneity</td>\n",
       "      <td>0.281648</td>\n",
       "      <td>0.281648</td>\n",
       "      <td>2.326053e-58</td>\n",
       "    </tr>\n",
       "    <tr>\n",
       "      <td>12</td>\n",
       "      <td>Service.occupations</td>\n",
       "      <td>0.272234</td>\n",
       "      <td>-0.272234</td>\n",
       "      <td>1.702239e-54</td>\n",
       "    </tr>\n",
       "    <tr>\n",
       "      <td>13</td>\n",
       "      <td>Preschool.Enrollment.Ratio.enrolled.ages.3.and.4</td>\n",
       "      <td>0.271683</td>\n",
       "      <td>-0.271683</td>\n",
       "      <td>2.834523e-54</td>\n",
       "    </tr>\n",
       "    <tr>\n",
       "      <td>14</td>\n",
       "      <td>Total Population</td>\n",
       "      <td>0.270416</td>\n",
       "      <td>-0.270416</td>\n",
       "      <td>9.109055e-54</td>\n",
       "    </tr>\n",
       "    <tr>\n",
       "      <td>15</td>\n",
       "      <td>Precincts</td>\n",
       "      <td>0.266277</td>\n",
       "      <td>-0.266277</td>\n",
       "      <td>3.963033e-52</td>\n",
       "    </tr>\n",
       "    <tr>\n",
       "      <td>16</td>\n",
       "      <td>Uninsured</td>\n",
       "      <td>0.258432</td>\n",
       "      <td>0.258432</td>\n",
       "      <td>4.205681e-49</td>\n",
       "    </tr>\n",
       "    <tr>\n",
       "      <td>17</td>\n",
       "      <td>Farming.fishing.and.forestry.occupations</td>\n",
       "      <td>0.238850</td>\n",
       "      <td>0.238850</td>\n",
       "      <td>5.416730e-42</td>\n",
       "    </tr>\n",
       "    <tr>\n",
       "      <td>18</td>\n",
       "      <td>Gini.Coefficient</td>\n",
       "      <td>0.217965</td>\n",
       "      <td>-0.217965</td>\n",
       "      <td>4.313520e-35</td>\n",
       "    </tr>\n",
       "    <tr>\n",
       "      <td>19</td>\n",
       "      <td>Injury.deaths</td>\n",
       "      <td>0.213762</td>\n",
       "      <td>0.213762</td>\n",
       "      <td>8.716827e-34</td>\n",
       "    </tr>\n",
       "    <tr>\n",
       "      <td>20</td>\n",
       "      <td>median_age</td>\n",
       "      <td>0.205948</td>\n",
       "      <td>0.205948</td>\n",
       "      <td>1.972174e-31</td>\n",
       "    </tr>\n",
       "    <tr>\n",
       "      <td>21</td>\n",
       "      <td>Sales.and.office.occupations</td>\n",
       "      <td>0.195823</td>\n",
       "      <td>-0.195823</td>\n",
       "      <td>1.606481e-28</td>\n",
       "    </tr>\n",
       "    <tr>\n",
       "      <td>22</td>\n",
       "      <td>Poverty.Rate.below.federal.poverty.threshold</td>\n",
       "      <td>0.164104</td>\n",
       "      <td>-0.164104</td>\n",
       "      <td>2.116223e-20</td>\n",
       "    </tr>\n",
       "    <tr>\n",
       "      <td>23</td>\n",
       "      <td>Low.birthweight</td>\n",
       "      <td>0.153740</td>\n",
       "      <td>-0.153740</td>\n",
       "      <td>4.537714e-18</td>\n",
       "    </tr>\n",
       "    <tr>\n",
       "      <td>24</td>\n",
       "      <td>Child.Poverty.living.in.families.below.the.pov...</td>\n",
       "      <td>0.135144</td>\n",
       "      <td>-0.135144</td>\n",
       "      <td>2.826895e-14</td>\n",
       "    </tr>\n",
       "    <tr>\n",
       "      <td>25</td>\n",
       "      <td>School Enrollment</td>\n",
       "      <td>0.132662</td>\n",
       "      <td>-0.132662</td>\n",
       "      <td>8.327733e-14</td>\n",
       "    </tr>\n",
       "    <tr>\n",
       "      <td>26</td>\n",
       "      <td>Adult.smoking</td>\n",
       "      <td>0.124789</td>\n",
       "      <td>0.124789</td>\n",
       "      <td>2.243894e-12</td>\n",
       "    </tr>\n",
       "    <tr>\n",
       "      <td>27</td>\n",
       "      <td>Median Earnings 2010</td>\n",
       "      <td>0.116098</td>\n",
       "      <td>-0.116098</td>\n",
       "      <td>6.748051e-11</td>\n",
       "    </tr>\n",
       "    <tr>\n",
       "      <td>28</td>\n",
       "      <td>Management.professional.and.related.occupations</td>\n",
       "      <td>0.115862</td>\n",
       "      <td>-0.115862</td>\n",
       "      <td>7.375555e-11</td>\n",
       "    </tr>\n",
       "    <tr>\n",
       "      <td>29</td>\n",
       "      <td>Children Under 6 Living in Poverty</td>\n",
       "      <td>0.115787</td>\n",
       "      <td>-0.115787</td>\n",
       "      <td>7.588126e-11</td>\n",
       "    </tr>\n",
       "    <tr>\n",
       "      <td>30</td>\n",
       "      <td>Native American Population</td>\n",
       "      <td>0.104147</td>\n",
       "      <td>-0.104147</td>\n",
       "      <td>4.901094e-09</td>\n",
       "    </tr>\n",
       "    <tr>\n",
       "      <td>31</td>\n",
       "      <td>Production.transportation.and.material.moving....</td>\n",
       "      <td>0.098097</td>\n",
       "      <td>0.098097</td>\n",
       "      <td>3.610349e-08</td>\n",
       "    </tr>\n",
       "    <tr>\n",
       "      <td>32</td>\n",
       "      <td>Latino Population</td>\n",
       "      <td>0.096990</td>\n",
       "      <td>-0.096990</td>\n",
       "      <td>5.138842e-08</td>\n",
       "    </tr>\n",
       "    <tr>\n",
       "      <td>33</td>\n",
       "      <td>Other Race or Races</td>\n",
       "      <td>0.092667</td>\n",
       "      <td>-0.092667</td>\n",
       "      <td>1.965146e-07</td>\n",
       "    </tr>\n",
       "    <tr>\n",
       "      <td>34</td>\n",
       "      <td>Teen.births</td>\n",
       "      <td>0.086154</td>\n",
       "      <td>0.086154</td>\n",
       "      <td>1.327741e-06</td>\n",
       "    </tr>\n",
       "    <tr>\n",
       "      <td>35</td>\n",
       "      <td>Diabetes</td>\n",
       "      <td>0.075749</td>\n",
       "      <td>0.075749</td>\n",
       "      <td>2.140213e-05</td>\n",
       "    </tr>\n",
       "    <tr>\n",
       "      <td>36</td>\n",
       "      <td>Adults 65 and Older Living in Poverty</td>\n",
       "      <td>0.071574</td>\n",
       "      <td>-0.071574</td>\n",
       "      <td>5.947301e-05</td>\n",
       "    </tr>\n",
       "    <tr>\n",
       "      <td>37</td>\n",
       "      <td>Adult.obesity</td>\n",
       "      <td>0.064553</td>\n",
       "      <td>0.064553</td>\n",
       "      <td>2.943815e-04</td>\n",
       "    </tr>\n",
       "    <tr>\n",
       "      <td>38</td>\n",
       "      <td>Less Than High School Diploma</td>\n",
       "      <td>0.049446</td>\n",
       "      <td>0.049446</td>\n",
       "      <td>5.575399e-03</td>\n",
       "    </tr>\n",
       "    <tr>\n",
       "      <td>39</td>\n",
       "      <td>At Least High School Diploma</td>\n",
       "      <td>0.047965</td>\n",
       "      <td>-0.047965</td>\n",
       "      <td>7.174521e-03</td>\n",
       "    </tr>\n",
       "  </tbody>\n",
       "</table>\n",
       "</div>"
      ],
      "text/plain": [
       "                                     Demographic info  abs_corr12    corr12  \\\n",
       "0                       White (Not Latino) Population    0.437955  0.437955   \n",
       "1                Children.in.single.parent.households    0.427325 -0.427325   \n",
       "2                     Sexually.transmitted.infections    0.414017 -0.414017   \n",
       "3                         African American Population    0.392567 -0.392567   \n",
       "4                                     Graduate Degree    0.369278 -0.369278   \n",
       "5   Construction.extraction.maintenance.and.repair...    0.345326  0.345326   \n",
       "6                                        Unemployment    0.328212 -0.328212   \n",
       "7                           Asian American Population    0.304657 -0.304657   \n",
       "8                         At Least Bachelors's Degree    0.303216 -0.303216   \n",
       "9                                               Votes    0.302003 -0.302003   \n",
       "10                                      Violent.crime    0.299639 -0.299639   \n",
       "11                                   SIRE_homogeneity    0.281648  0.281648   \n",
       "12                                Service.occupations    0.272234 -0.272234   \n",
       "13   Preschool.Enrollment.Ratio.enrolled.ages.3.and.4    0.271683 -0.271683   \n",
       "14                                   Total Population    0.270416 -0.270416   \n",
       "15                                          Precincts    0.266277 -0.266277   \n",
       "16                                          Uninsured    0.258432  0.258432   \n",
       "17           Farming.fishing.and.forestry.occupations    0.238850  0.238850   \n",
       "18                                   Gini.Coefficient    0.217965 -0.217965   \n",
       "19                                      Injury.deaths    0.213762  0.213762   \n",
       "20                                         median_age    0.205948  0.205948   \n",
       "21                       Sales.and.office.occupations    0.195823 -0.195823   \n",
       "22       Poverty.Rate.below.federal.poverty.threshold    0.164104 -0.164104   \n",
       "23                                    Low.birthweight    0.153740 -0.153740   \n",
       "24  Child.Poverty.living.in.families.below.the.pov...    0.135144 -0.135144   \n",
       "25                                  School Enrollment    0.132662 -0.132662   \n",
       "26                                      Adult.smoking    0.124789  0.124789   \n",
       "27                               Median Earnings 2010    0.116098 -0.116098   \n",
       "28    Management.professional.and.related.occupations    0.115862 -0.115862   \n",
       "29                 Children Under 6 Living in Poverty    0.115787 -0.115787   \n",
       "30                         Native American Population    0.104147 -0.104147   \n",
       "31  Production.transportation.and.material.moving....    0.098097  0.098097   \n",
       "32                                  Latino Population    0.096990 -0.096990   \n",
       "33                                Other Race or Races    0.092667 -0.092667   \n",
       "34                                        Teen.births    0.086154  0.086154   \n",
       "35                                           Diabetes    0.075749  0.075749   \n",
       "36              Adults 65 and Older Living in Poverty    0.071574 -0.071574   \n",
       "37                                      Adult.obesity    0.064553  0.064553   \n",
       "38                      Less Than High School Diploma    0.049446  0.049446   \n",
       "39                       At Least High School Diploma    0.047965 -0.047965   \n",
       "\n",
       "        p_value12  \n",
       "0   2.284088e-147  \n",
       "1   1.210057e-139  \n",
       "2   2.344544e-130  \n",
       "3   3.012613e-116  \n",
       "4   4.517001e-102  \n",
       "5    1.149040e-88  \n",
       "6    8.815779e-80  \n",
       "7    1.867132e-68  \n",
       "8    8.532572e-68  \n",
       "9    3.047631e-67  \n",
       "10   3.573177e-66  \n",
       "11   2.326053e-58  \n",
       "12   1.702239e-54  \n",
       "13   2.834523e-54  \n",
       "14   9.109055e-54  \n",
       "15   3.963033e-52  \n",
       "16   4.205681e-49  \n",
       "17   5.416730e-42  \n",
       "18   4.313520e-35  \n",
       "19   8.716827e-34  \n",
       "20   1.972174e-31  \n",
       "21   1.606481e-28  \n",
       "22   2.116223e-20  \n",
       "23   4.537714e-18  \n",
       "24   2.826895e-14  \n",
       "25   8.327733e-14  \n",
       "26   2.243894e-12  \n",
       "27   6.748051e-11  \n",
       "28   7.375555e-11  \n",
       "29   7.588126e-11  \n",
       "30   4.901094e-09  \n",
       "31   3.610349e-08  \n",
       "32   5.138842e-08  \n",
       "33   1.965146e-07  \n",
       "34   1.327741e-06  \n",
       "35   2.140213e-05  \n",
       "36   5.947301e-05  \n",
       "37   2.943815e-04  \n",
       "38   5.575399e-03  \n",
       "39   7.174521e-03  "
      ]
     },
     "execution_count": 6,
     "metadata": {},
     "output_type": "execute_result"
    }
   ],
   "source": [
    "corr_array=[]\n",
    "for i in range(demo_df.shape[1]):  \n",
    "    corr_array.append([demo_df.columns[i], \n",
    "    np.abs(stats.pearsonr(demo_df[demo_df.columns[i]], vote_df['Republicans12_VoteShare'])[0]),\n",
    "    stats.pearsonr(demo_df[demo_df.columns[i]], vote_df['Republicans12_VoteShare'])[0], \n",
    "    stats.pearsonr(demo_df[demo_df.columns[i]], vote_df['Republicans12_VoteShare'])[1]]) \n",
    "corr12_df = pd.DataFrame(corr_array,columns = ['Demographic info', 'abs_corr12', 'corr12', 'p_value12'])\n",
    "corr12_df.sort_values(by = 'abs_corr12', ascending = False, inplace = True)\n",
    "corr12_df.reset_index(drop = True, inplace = True)\n",
    "corr12_df"
   ]
  },
  {
   "cell_type": "markdown",
   "metadata": {},
   "source": [
    "The correlation of different demographic factors ranges from values close \n",
    "to zero up to maximum of 0.438. White population, single parenthood, and \n",
    "sexually transmitted infections are three the top most correlated factors\n",
    "while highschool deploma, adult obesity, and elderly in poverty are the \n",
    "least correlated factors. The p value for all correlations are well below\n",
    "5% and therefore have acceptable statistical significance."
   ]
  },
  {
   "cell_type": "code",
   "execution_count": 7,
   "metadata": {},
   "outputs": [
    {
     "data": {
      "text/html": [
       "<div>\n",
       "<style scoped>\n",
       "    .dataframe tbody tr th:only-of-type {\n",
       "        vertical-align: middle;\n",
       "    }\n",
       "\n",
       "    .dataframe tbody tr th {\n",
       "        vertical-align: top;\n",
       "    }\n",
       "\n",
       "    .dataframe thead th {\n",
       "        text-align: right;\n",
       "    }\n",
       "</style>\n",
       "<table border=\"1\" class=\"dataframe\">\n",
       "  <thead>\n",
       "    <tr style=\"text-align: right;\">\n",
       "      <th></th>\n",
       "      <th>Demographic info</th>\n",
       "      <th>abs_corr16</th>\n",
       "      <th>corr16</th>\n",
       "      <th>p_value16</th>\n",
       "    </tr>\n",
       "  </thead>\n",
       "  <tbody>\n",
       "    <tr>\n",
       "      <td>0</td>\n",
       "      <td>White (Not Latino) Population</td>\n",
       "      <td>0.552828</td>\n",
       "      <td>0.552828</td>\n",
       "      <td>6.294776e-251</td>\n",
       "    </tr>\n",
       "    <tr>\n",
       "      <td>1</td>\n",
       "      <td>Graduate Degree</td>\n",
       "      <td>0.517054</td>\n",
       "      <td>-0.517054</td>\n",
       "      <td>2.508930e-214</td>\n",
       "    </tr>\n",
       "    <tr>\n",
       "      <td>2</td>\n",
       "      <td>Sexually.transmitted.infections</td>\n",
       "      <td>0.468603</td>\n",
       "      <td>-0.468603</td>\n",
       "      <td>3.045264e-171</td>\n",
       "    </tr>\n",
       "    <tr>\n",
       "      <td>3</td>\n",
       "      <td>At Least Bachelors's Degree</td>\n",
       "      <td>0.464169</td>\n",
       "      <td>-0.464169</td>\n",
       "      <td>1.233182e-167</td>\n",
       "    </tr>\n",
       "    <tr>\n",
       "      <td>4</td>\n",
       "      <td>African American Population</td>\n",
       "      <td>0.461468</td>\n",
       "      <td>-0.461468</td>\n",
       "      <td>1.829538e-165</td>\n",
       "    </tr>\n",
       "    <tr>\n",
       "      <td>5</td>\n",
       "      <td>SIRE_homogeneity</td>\n",
       "      <td>0.438292</td>\n",
       "      <td>0.438292</td>\n",
       "      <td>1.285906e-147</td>\n",
       "    </tr>\n",
       "    <tr>\n",
       "      <td>6</td>\n",
       "      <td>Children.in.single.parent.households</td>\n",
       "      <td>0.421455</td>\n",
       "      <td>-0.421455</td>\n",
       "      <td>1.700415e-135</td>\n",
       "    </tr>\n",
       "    <tr>\n",
       "      <td>7</td>\n",
       "      <td>Votes</td>\n",
       "      <td>0.395448</td>\n",
       "      <td>-0.395448</td>\n",
       "      <td>4.407163e-118</td>\n",
       "    </tr>\n",
       "    <tr>\n",
       "      <td>8</td>\n",
       "      <td>Asian American Population</td>\n",
       "      <td>0.394287</td>\n",
       "      <td>-0.394287</td>\n",
       "      <td>2.430479e-117</td>\n",
       "    </tr>\n",
       "    <tr>\n",
       "      <td>9</td>\n",
       "      <td>Violent.crime</td>\n",
       "      <td>0.370263</td>\n",
       "      <td>-0.370263</td>\n",
       "      <td>1.197687e-102</td>\n",
       "    </tr>\n",
       "    <tr>\n",
       "      <td>10</td>\n",
       "      <td>Construction.extraction.maintenance.and.repair...</td>\n",
       "      <td>0.363026</td>\n",
       "      <td>0.363026</td>\n",
       "      <td>1.843745e-98</td>\n",
       "    </tr>\n",
       "    <tr>\n",
       "      <td>11</td>\n",
       "      <td>Total Population</td>\n",
       "      <td>0.351670</td>\n",
       "      <td>-0.351670</td>\n",
       "      <td>4.185178e-92</td>\n",
       "    </tr>\n",
       "    <tr>\n",
       "      <td>12</td>\n",
       "      <td>Precincts</td>\n",
       "      <td>0.330111</td>\n",
       "      <td>-0.330111</td>\n",
       "      <td>9.712766e-81</td>\n",
       "    </tr>\n",
       "    <tr>\n",
       "      <td>13</td>\n",
       "      <td>median_age</td>\n",
       "      <td>0.314474</td>\n",
       "      <td>0.314474</td>\n",
       "      <td>4.739540e-73</td>\n",
       "    </tr>\n",
       "    <tr>\n",
       "      <td>14</td>\n",
       "      <td>Preschool.Enrollment.Ratio.enrolled.ages.3.and.4</td>\n",
       "      <td>0.304127</td>\n",
       "      <td>-0.304127</td>\n",
       "      <td>3.270219e-68</td>\n",
       "    </tr>\n",
       "    <tr>\n",
       "      <td>15</td>\n",
       "      <td>Unemployment</td>\n",
       "      <td>0.300371</td>\n",
       "      <td>-0.300371</td>\n",
       "      <td>1.671080e-66</td>\n",
       "    </tr>\n",
       "    <tr>\n",
       "      <td>16</td>\n",
       "      <td>Gini.Coefficient</td>\n",
       "      <td>0.289031</td>\n",
       "      <td>-0.289031</td>\n",
       "      <td>1.693777e-61</td>\n",
       "    </tr>\n",
       "    <tr>\n",
       "      <td>17</td>\n",
       "      <td>Injury.deaths</td>\n",
       "      <td>0.274245</td>\n",
       "      <td>0.274245</td>\n",
       "      <td>2.617968e-55</td>\n",
       "    </tr>\n",
       "    <tr>\n",
       "      <td>18</td>\n",
       "      <td>Sales.and.office.occupations</td>\n",
       "      <td>0.265829</td>\n",
       "      <td>-0.265829</td>\n",
       "      <td>5.934568e-52</td>\n",
       "    </tr>\n",
       "    <tr>\n",
       "      <td>19</td>\n",
       "      <td>Service.occupations</td>\n",
       "      <td>0.237250</td>\n",
       "      <td>-0.237250</td>\n",
       "      <td>1.936354e-41</td>\n",
       "    </tr>\n",
       "    <tr>\n",
       "      <td>20</td>\n",
       "      <td>Farming.fishing.and.forestry.occupations</td>\n",
       "      <td>0.236012</td>\n",
       "      <td>0.236012</td>\n",
       "      <td>5.153149e-41</td>\n",
       "    </tr>\n",
       "    <tr>\n",
       "      <td>21</td>\n",
       "      <td>Adult.smoking</td>\n",
       "      <td>0.235213</td>\n",
       "      <td>0.235213</td>\n",
       "      <td>9.669323e-41</td>\n",
       "    </tr>\n",
       "    <tr>\n",
       "      <td>22</td>\n",
       "      <td>Management.professional.and.related.occupations</td>\n",
       "      <td>0.232779</td>\n",
       "      <td>-0.232779</td>\n",
       "      <td>6.475682e-40</td>\n",
       "    </tr>\n",
       "    <tr>\n",
       "      <td>23</td>\n",
       "      <td>Production.transportation.and.material.moving....</td>\n",
       "      <td>0.232372</td>\n",
       "      <td>0.232372</td>\n",
       "      <td>8.878792e-40</td>\n",
       "    </tr>\n",
       "    <tr>\n",
       "      <td>24</td>\n",
       "      <td>Latino Population</td>\n",
       "      <td>0.197589</td>\n",
       "      <td>-0.197589</td>\n",
       "      <td>5.121962e-29</td>\n",
       "    </tr>\n",
       "    <tr>\n",
       "      <td>25</td>\n",
       "      <td>Median Earnings 2010</td>\n",
       "      <td>0.192509</td>\n",
       "      <td>-0.192509</td>\n",
       "      <td>1.332676e-27</td>\n",
       "    </tr>\n",
       "    <tr>\n",
       "      <td>26</td>\n",
       "      <td>Low.birthweight</td>\n",
       "      <td>0.190540</td>\n",
       "      <td>-0.190540</td>\n",
       "      <td>4.600571e-27</td>\n",
       "    </tr>\n",
       "    <tr>\n",
       "      <td>27</td>\n",
       "      <td>Uninsured</td>\n",
       "      <td>0.168061</td>\n",
       "      <td>0.168061</td>\n",
       "      <td>2.478017e-21</td>\n",
       "    </tr>\n",
       "    <tr>\n",
       "      <td>28</td>\n",
       "      <td>School Enrollment</td>\n",
       "      <td>0.167999</td>\n",
       "      <td>-0.167999</td>\n",
       "      <td>2.564286e-21</td>\n",
       "    </tr>\n",
       "    <tr>\n",
       "      <td>29</td>\n",
       "      <td>Adult.obesity</td>\n",
       "      <td>0.154736</td>\n",
       "      <td>0.154736</td>\n",
       "      <td>2.751316e-18</td>\n",
       "    </tr>\n",
       "    <tr>\n",
       "      <td>30</td>\n",
       "      <td>Poverty.Rate.below.federal.poverty.threshold</td>\n",
       "      <td>0.143162</td>\n",
       "      <td>-0.143162</td>\n",
       "      <td>7.515503e-16</td>\n",
       "    </tr>\n",
       "    <tr>\n",
       "      <td>31</td>\n",
       "      <td>Diabetes</td>\n",
       "      <td>0.129020</td>\n",
       "      <td>0.129020</td>\n",
       "      <td>3.918927e-13</td>\n",
       "    </tr>\n",
       "    <tr>\n",
       "      <td>32</td>\n",
       "      <td>Other Race or Races</td>\n",
       "      <td>0.107921</td>\n",
       "      <td>-0.107921</td>\n",
       "      <td>1.330441e-09</td>\n",
       "    </tr>\n",
       "    <tr>\n",
       "      <td>33</td>\n",
       "      <td>Child.Poverty.living.in.families.below.the.pov...</td>\n",
       "      <td>0.105214</td>\n",
       "      <td>-0.105214</td>\n",
       "      <td>3.405106e-09</td>\n",
       "    </tr>\n",
       "    <tr>\n",
       "      <td>34</td>\n",
       "      <td>Children Under 6 Living in Poverty</td>\n",
       "      <td>0.078237</td>\n",
       "      <td>-0.078237</td>\n",
       "      <td>1.134729e-05</td>\n",
       "    </tr>\n",
       "    <tr>\n",
       "      <td>35</td>\n",
       "      <td>Teen.births</td>\n",
       "      <td>0.077503</td>\n",
       "      <td>0.077503</td>\n",
       "      <td>1.371119e-05</td>\n",
       "    </tr>\n",
       "    <tr>\n",
       "      <td>36</td>\n",
       "      <td>Native American Population</td>\n",
       "      <td>0.065390</td>\n",
       "      <td>-0.065390</td>\n",
       "      <td>2.452160e-04</td>\n",
       "    </tr>\n",
       "    <tr>\n",
       "      <td>37</td>\n",
       "      <td>Less Than High School Diploma</td>\n",
       "      <td>0.058951</td>\n",
       "      <td>0.058951</td>\n",
       "      <td>9.482711e-04</td>\n",
       "    </tr>\n",
       "    <tr>\n",
       "      <td>38</td>\n",
       "      <td>At Least High School Diploma</td>\n",
       "      <td>0.054349</td>\n",
       "      <td>-0.054349</td>\n",
       "      <td>2.311376e-03</td>\n",
       "    </tr>\n",
       "    <tr>\n",
       "      <td>39</td>\n",
       "      <td>Adults 65 and Older Living in Poverty</td>\n",
       "      <td>0.034175</td>\n",
       "      <td>-0.034175</td>\n",
       "      <td>5.547691e-02</td>\n",
       "    </tr>\n",
       "  </tbody>\n",
       "</table>\n",
       "</div>"
      ],
      "text/plain": [
       "                                     Demographic info  abs_corr16    corr16  \\\n",
       "0                       White (Not Latino) Population    0.552828  0.552828   \n",
       "1                                     Graduate Degree    0.517054 -0.517054   \n",
       "2                     Sexually.transmitted.infections    0.468603 -0.468603   \n",
       "3                         At Least Bachelors's Degree    0.464169 -0.464169   \n",
       "4                         African American Population    0.461468 -0.461468   \n",
       "5                                    SIRE_homogeneity    0.438292  0.438292   \n",
       "6                Children.in.single.parent.households    0.421455 -0.421455   \n",
       "7                                               Votes    0.395448 -0.395448   \n",
       "8                           Asian American Population    0.394287 -0.394287   \n",
       "9                                       Violent.crime    0.370263 -0.370263   \n",
       "10  Construction.extraction.maintenance.and.repair...    0.363026  0.363026   \n",
       "11                                   Total Population    0.351670 -0.351670   \n",
       "12                                          Precincts    0.330111 -0.330111   \n",
       "13                                         median_age    0.314474  0.314474   \n",
       "14   Preschool.Enrollment.Ratio.enrolled.ages.3.and.4    0.304127 -0.304127   \n",
       "15                                       Unemployment    0.300371 -0.300371   \n",
       "16                                   Gini.Coefficient    0.289031 -0.289031   \n",
       "17                                      Injury.deaths    0.274245  0.274245   \n",
       "18                       Sales.and.office.occupations    0.265829 -0.265829   \n",
       "19                                Service.occupations    0.237250 -0.237250   \n",
       "20           Farming.fishing.and.forestry.occupations    0.236012  0.236012   \n",
       "21                                      Adult.smoking    0.235213  0.235213   \n",
       "22    Management.professional.and.related.occupations    0.232779 -0.232779   \n",
       "23  Production.transportation.and.material.moving....    0.232372  0.232372   \n",
       "24                                  Latino Population    0.197589 -0.197589   \n",
       "25                               Median Earnings 2010    0.192509 -0.192509   \n",
       "26                                    Low.birthweight    0.190540 -0.190540   \n",
       "27                                          Uninsured    0.168061  0.168061   \n",
       "28                                  School Enrollment    0.167999 -0.167999   \n",
       "29                                      Adult.obesity    0.154736  0.154736   \n",
       "30       Poverty.Rate.below.federal.poverty.threshold    0.143162 -0.143162   \n",
       "31                                           Diabetes    0.129020  0.129020   \n",
       "32                                Other Race or Races    0.107921 -0.107921   \n",
       "33  Child.Poverty.living.in.families.below.the.pov...    0.105214 -0.105214   \n",
       "34                 Children Under 6 Living in Poverty    0.078237 -0.078237   \n",
       "35                                        Teen.births    0.077503  0.077503   \n",
       "36                         Native American Population    0.065390 -0.065390   \n",
       "37                      Less Than High School Diploma    0.058951  0.058951   \n",
       "38                       At Least High School Diploma    0.054349 -0.054349   \n",
       "39              Adults 65 and Older Living in Poverty    0.034175 -0.034175   \n",
       "\n",
       "        p_value16  \n",
       "0   6.294776e-251  \n",
       "1   2.508930e-214  \n",
       "2   3.045264e-171  \n",
       "3   1.233182e-167  \n",
       "4   1.829538e-165  \n",
       "5   1.285906e-147  \n",
       "6   1.700415e-135  \n",
       "7   4.407163e-118  \n",
       "8   2.430479e-117  \n",
       "9   1.197687e-102  \n",
       "10   1.843745e-98  \n",
       "11   4.185178e-92  \n",
       "12   9.712766e-81  \n",
       "13   4.739540e-73  \n",
       "14   3.270219e-68  \n",
       "15   1.671080e-66  \n",
       "16   1.693777e-61  \n",
       "17   2.617968e-55  \n",
       "18   5.934568e-52  \n",
       "19   1.936354e-41  \n",
       "20   5.153149e-41  \n",
       "21   9.669323e-41  \n",
       "22   6.475682e-40  \n",
       "23   8.878792e-40  \n",
       "24   5.121962e-29  \n",
       "25   1.332676e-27  \n",
       "26   4.600571e-27  \n",
       "27   2.478017e-21  \n",
       "28   2.564286e-21  \n",
       "29   2.751316e-18  \n",
       "30   7.515503e-16  \n",
       "31   3.918927e-13  \n",
       "32   1.330441e-09  \n",
       "33   3.405106e-09  \n",
       "34   1.134729e-05  \n",
       "35   1.371119e-05  \n",
       "36   2.452160e-04  \n",
       "37   9.482711e-04  \n",
       "38   2.311376e-03  \n",
       "39   5.547691e-02  "
      ]
     },
     "execution_count": 7,
     "metadata": {},
     "output_type": "execute_result"
    }
   ],
   "source": [
    "corr_array=[]\n",
    "for i in range(demo_df.shape[1]):  \n",
    "    corr_array.append([demo_df.columns[i], \n",
    "    np.abs(stats.pearsonr(demo_df[demo_df.columns[i]], vote_df['Republicans16_VoteShare'])[0]),\n",
    "    stats.pearsonr(demo_df[demo_df.columns[i]], vote_df['Republicans16_VoteShare'])[0], \n",
    "    stats.pearsonr(demo_df[demo_df.columns[i]], vote_df['Republicans16_VoteShare'])[1]]) \n",
    "corr16_df = pd.DataFrame(corr_array,columns = ['Demographic info', 'abs_corr16', 'corr16', 'p_value16'])\n",
    "corr16_df.sort_values(by = 'abs_corr16', ascending = False, inplace = True)\n",
    "corr16_df.reset_index(drop = True, inplace = True)\n",
    "corr16_df"
   ]
  },
  {
   "cell_type": "markdown",
   "metadata": {},
   "source": [
    "The correlated factors are in general similar for 2012 and 2016. In bothe\n",
    "cases, white population has the greatest correlation with election results. \n",
    "Furthermore, only one factor on top ten factors of 2012 does not appear 2016\n",
    "(i.e., unemployment). At the bottom, high school diploma and elderly poverty appear in bottom three in both cases. The p values for 2016 are very small as for 2012, except for *Adults 65 and Older Living in Poverty* which is slightly larger than 5%; however, this factor is the least correlated factor to the vote share. Quantitatively, demographic factors are better correlated with 2016 results than 2012."
   ]
  },
  {
   "cell_type": "markdown",
   "metadata": {},
   "source": [
    "# Hypothesis Test: Difference of Republican Vote Share between Elections"
   ]
  },
  {
   "cell_type": "markdown",
   "metadata": {},
   "source": [
    "In this section the difference mean Republican vote shares across two election cycles are evaluated. The two sample unpaired t-test is selected as the suitable method because it is desired to decide statistical difference between mean values of two sets of numerical data. The test is carried out as follows: "
   ]
  },
  {
   "cell_type": "code",
   "execution_count": 8,
   "metadata": {},
   "outputs": [
    {
     "name": "stdout",
     "output_type": "stream",
     "text": [
      "Ttest_indResult(statistic=-15.251111207856784, pvalue=1.348580485251551e-51)\n"
     ]
    }
   ],
   "source": [
    "two_sample_test = stats.ttest_ind(vote_df['Republicans12_VoteShare'], vote_df['Republicans16_VoteShare'])\n",
    "print(two_sample_test)"
   ]
  },
  {
   "cell_type": "markdown",
   "metadata": {},
   "source": [
    "The p-value is very small indicating significant difference between election cycles."
   ]
  },
  {
   "cell_type": "markdown",
   "metadata": {},
   "source": [
    "# Linear Model: Republican Vote Share vs. Demographic Factors"
   ]
  },
  {
   "cell_type": "markdown",
   "metadata": {},
   "source": [
    "This section describes the procedure used to create a descriptive model of election results based on demographic factors. A model is created based on 2012 republican vote share to determine the influential factors in election results. The accuracy of the model is evaluated by predicting and comparing 2012 and 2016 election results."
   ]
  },
  {
   "cell_type": "markdown",
   "metadata": {},
   "source": [
    "## Full-feature Model"
   ]
  },
  {
   "cell_type": "markdown",
   "metadata": {},
   "source": [
    "As election data is numerical, a linear regression model is selected to predict the republican vote share. The first step is to generate the model with full set of demographic factors to see wether all coefficientss were statistically significant (i.e., all factors are linearly independent) in which case it would be declared as the final model. This model also creates a baseline for maximum accuracy to which future iterations can be compared against."
   ]
  },
  {
   "cell_type": "code",
   "execution_count": 9,
   "metadata": {
    "scrolled": false
   },
   "outputs": [
    {
     "name": "stderr",
     "output_type": "stream",
     "text": [
      "C:\\Users\\arali\\Anaconda3\\lib\\site-packages\\numpy\\core\\fromnumeric.py:2389: FutureWarning: Method .ptp is deprecated and will be removed in a future version. Use numpy.ptp instead.\n",
      "  return ptp(axis=axis, out=out, **kwargs)\n"
     ]
    },
    {
     "data": {
      "text/html": [
       "<table class=\"simpletable\">\n",
       "<caption>OLS Regression Results</caption>\n",
       "<tr>\n",
       "  <th>Dep. Variable:</th>    <td>Republicans12_VoteShare</td> <th>  R-squared:         </th> <td>   0.706</td> \n",
       "</tr>\n",
       "<tr>\n",
       "  <th>Model:</th>                      <td>OLS</td>           <th>  Adj. R-squared:    </th> <td>   0.702</td> \n",
       "</tr>\n",
       "<tr>\n",
       "  <th>Method:</th>                <td>Least Squares</td>      <th>  F-statistic:       </th> <td>   186.0</td> \n",
       "</tr>\n",
       "<tr>\n",
       "  <th>Date:</th>                <td>Sun, 02 Feb 2020</td>     <th>  Prob (F-statistic):</th>  <td>  0.00</td>  \n",
       "</tr>\n",
       "<tr>\n",
       "  <th>Time:</th>                    <td>16:36:58</td>         <th>  Log-Likelihood:    </th> <td> -11033.</td> \n",
       "</tr>\n",
       "<tr>\n",
       "  <th>No. Observations:</th>         <td>  3141</td>          <th>  AIC:               </th> <td>2.215e+04</td>\n",
       "</tr>\n",
       "<tr>\n",
       "  <th>Df Residuals:</th>             <td>  3100</td>          <th>  BIC:               </th> <td>2.240e+04</td>\n",
       "</tr>\n",
       "<tr>\n",
       "  <th>Df Model:</th>                 <td>    40</td>          <th>                     </th>     <td> </td>    \n",
       "</tr>\n",
       "<tr>\n",
       "  <th>Covariance Type:</th>         <td>nonrobust</td>        <th>                     </th>     <td> </td>    \n",
       "</tr>\n",
       "</table>\n",
       "<table class=\"simpletable\">\n",
       "<tr>\n",
       "                               <td></td>                                 <th>coef</th>     <th>std err</th>      <th>t</th>      <th>P>|t|</th>  <th>[0.025</th>    <th>0.975]</th>  \n",
       "</tr>\n",
       "<tr>\n",
       "  <th>const</th>                                                      <td>  145.7648</td> <td>  416.213</td> <td>    0.350</td> <td> 0.726</td> <td> -670.315</td> <td>  961.845</td>\n",
       "</tr>\n",
       "<tr>\n",
       "  <th>Precincts</th>                                                  <td>   -0.0015</td> <td>    0.002</td> <td>   -0.651</td> <td> 0.515</td> <td>   -0.006</td> <td>    0.003</td>\n",
       "</tr>\n",
       "<tr>\n",
       "  <th>Votes</th>                                                      <td>-3.055e-05</td> <td> 6.15e-06</td> <td>   -4.970</td> <td> 0.000</td> <td>-4.26e-05</td> <td>-1.85e-05</td>\n",
       "</tr>\n",
       "<tr>\n",
       "  <th>Less Than High School Diploma</th>                              <td>   -0.0268</td> <td>    0.088</td> <td>   -0.303</td> <td> 0.762</td> <td>   -0.200</td> <td>    0.147</td>\n",
       "</tr>\n",
       "<tr>\n",
       "  <th>At Least High School Diploma</th>                               <td>   -0.1214</td> <td>    0.081</td> <td>   -1.496</td> <td> 0.135</td> <td>   -0.281</td> <td>    0.038</td>\n",
       "</tr>\n",
       "<tr>\n",
       "  <th>At Least Bachelors's Degree</th>                                <td>   -0.2438</td> <td>    0.068</td> <td>   -3.608</td> <td> 0.000</td> <td>   -0.376</td> <td>   -0.111</td>\n",
       "</tr>\n",
       "<tr>\n",
       "  <th>Graduate Degree</th>                                            <td>   -0.7486</td> <td>    0.115</td> <td>   -6.522</td> <td> 0.000</td> <td>   -0.974</td> <td>   -0.524</td>\n",
       "</tr>\n",
       "<tr>\n",
       "  <th>School Enrollment</th>                                          <td>    0.0252</td> <td>    0.035</td> <td>    0.713</td> <td> 0.476</td> <td>   -0.044</td> <td>    0.094</td>\n",
       "</tr>\n",
       "<tr>\n",
       "  <th>Median Earnings 2010</th>                                       <td>-6.248e-05</td> <td> 5.67e-05</td> <td>   -1.103</td> <td> 0.270</td> <td>   -0.000</td> <td> 4.86e-05</td>\n",
       "</tr>\n",
       "<tr>\n",
       "  <th>White (Not Latino) Population</th>                              <td>   -0.6537</td> <td>    3.013</td> <td>   -0.217</td> <td> 0.828</td> <td>   -6.561</td> <td>    5.253</td>\n",
       "</tr>\n",
       "<tr>\n",
       "  <th>African American Population</th>                                <td>   -1.3266</td> <td>    3.012</td> <td>   -0.440</td> <td> 0.660</td> <td>   -7.233</td> <td>    4.580</td>\n",
       "</tr>\n",
       "<tr>\n",
       "  <th>Native American Population</th>                                 <td>   -1.2717</td> <td>    3.013</td> <td>   -0.422</td> <td> 0.673</td> <td>   -7.179</td> <td>    4.636</td>\n",
       "</tr>\n",
       "<tr>\n",
       "  <th>Asian American Population</th>                                  <td>   -1.2453</td> <td>    3.014</td> <td>   -0.413</td> <td> 0.680</td> <td>   -7.155</td> <td>    4.664</td>\n",
       "</tr>\n",
       "<tr>\n",
       "  <th>Other Race or Races</th>                                        <td>   -1.3828</td> <td>    3.015</td> <td>   -0.459</td> <td> 0.647</td> <td>   -7.295</td> <td>    4.529</td>\n",
       "</tr>\n",
       "<tr>\n",
       "  <th>Latino Population</th>                                          <td>   -1.2529</td> <td>    3.013</td> <td>   -0.416</td> <td> 0.678</td> <td>   -7.161</td> <td>    4.655</td>\n",
       "</tr>\n",
       "<tr>\n",
       "  <th>Children Under 6 Living in Poverty</th>                         <td>   -0.0242</td> <td>    0.028</td> <td>   -0.856</td> <td> 0.392</td> <td>   -0.080</td> <td>    0.031</td>\n",
       "</tr>\n",
       "<tr>\n",
       "  <th>Adults 65 and Older Living in Poverty</th>                      <td>   -0.0749</td> <td>    0.047</td> <td>   -1.583</td> <td> 0.114</td> <td>   -0.168</td> <td>    0.018</td>\n",
       "</tr>\n",
       "<tr>\n",
       "  <th>Total Population</th>                                           <td> 7.756e-06</td> <td> 2.43e-06</td> <td>    3.189</td> <td> 0.001</td> <td> 2.99e-06</td> <td> 1.25e-05</td>\n",
       "</tr>\n",
       "<tr>\n",
       "  <th>Preschool.Enrollment.Ratio.enrolled.ages.3.and.4</th>           <td>   -0.0025</td> <td>    0.011</td> <td>   -0.218</td> <td> 0.828</td> <td>   -0.025</td> <td>    0.020</td>\n",
       "</tr>\n",
       "<tr>\n",
       "  <th>Poverty.Rate.below.federal.poverty.threshold</th>               <td>   -0.5889</td> <td>    0.098</td> <td>   -6.020</td> <td> 0.000</td> <td>   -0.781</td> <td>   -0.397</td>\n",
       "</tr>\n",
       "<tr>\n",
       "  <th>Gini.Coefficient</th>                                           <td>   17.8468</td> <td>    6.058</td> <td>    2.946</td> <td> 0.003</td> <td>    5.968</td> <td>   29.726</td>\n",
       "</tr>\n",
       "<tr>\n",
       "  <th>Child.Poverty.living.in.families.below.the.poverty.line</th>    <td>    0.1526</td> <td>    0.059</td> <td>    2.608</td> <td> 0.009</td> <td>    0.038</td> <td>    0.267</td>\n",
       "</tr>\n",
       "<tr>\n",
       "  <th>Management.professional.and.related.occupations</th>            <td>    0.6165</td> <td>    2.888</td> <td>    0.213</td> <td> 0.831</td> <td>   -5.046</td> <td>    6.279</td>\n",
       "</tr>\n",
       "<tr>\n",
       "  <th>Service.occupations</th>                                        <td>   -0.1016</td> <td>    2.888</td> <td>   -0.035</td> <td> 0.972</td> <td>   -5.765</td> <td>    5.562</td>\n",
       "</tr>\n",
       "<tr>\n",
       "  <th>Sales.and.office.occupations</th>                               <td>    0.3747</td> <td>    2.887</td> <td>    0.130</td> <td> 0.897</td> <td>   -5.286</td> <td>    6.035</td>\n",
       "</tr>\n",
       "<tr>\n",
       "  <th>Farming.fishing.and.forestry.occupations</th>                   <td>    0.4105</td> <td>    2.889</td> <td>    0.142</td> <td> 0.887</td> <td>   -5.253</td> <td>    6.074</td>\n",
       "</tr>\n",
       "<tr>\n",
       "  <th>Construction.extraction.maintenance.and.repair.occupations</th> <td>    0.4350</td> <td>    2.888</td> <td>    0.151</td> <td> 0.880</td> <td>   -5.227</td> <td>    6.097</td>\n",
       "</tr>\n",
       "<tr>\n",
       "  <th>Production.transportation.and.material.moving.occupations</th>  <td>    0.0602</td> <td>    2.888</td> <td>    0.021</td> <td> 0.983</td> <td>   -5.602</td> <td>    5.723</td>\n",
       "</tr>\n",
       "<tr>\n",
       "  <th>SIRE_homogeneity</th>                                           <td>  -24.7502</td> <td>    1.887</td> <td>  -13.117</td> <td> 0.000</td> <td>  -28.450</td> <td>  -21.051</td>\n",
       "</tr>\n",
       "<tr>\n",
       "  <th>median_age</th>                                                 <td>   -0.6023</td> <td>    0.050</td> <td>  -12.071</td> <td> 0.000</td> <td>   -0.700</td> <td>   -0.504</td>\n",
       "</tr>\n",
       "<tr>\n",
       "  <th>Low.birthweight</th>                                            <td>   56.5937</td> <td>   12.274</td> <td>    4.611</td> <td> 0.000</td> <td>   32.528</td> <td>   80.659</td>\n",
       "</tr>\n",
       "<tr>\n",
       "  <th>Teen.births</th>                                                <td>    0.1302</td> <td>    0.015</td> <td>    8.427</td> <td> 0.000</td> <td>    0.100</td> <td>    0.160</td>\n",
       "</tr>\n",
       "<tr>\n",
       "  <th>Children.in.single.parent.households</th>                       <td>  -33.3328</td> <td>    2.714</td> <td>  -12.284</td> <td> 0.000</td> <td>  -38.653</td> <td>  -28.012</td>\n",
       "</tr>\n",
       "<tr>\n",
       "  <th>Adult.smoking</th>                                              <td>  -11.6085</td> <td>    3.358</td> <td>   -3.457</td> <td> 0.001</td> <td>  -18.192</td> <td>   -5.025</td>\n",
       "</tr>\n",
       "<tr>\n",
       "  <th>Adult.obesity</th>                                              <td>   -4.1708</td> <td>    6.497</td> <td>   -0.642</td> <td> 0.521</td> <td>  -16.911</td> <td>    8.569</td>\n",
       "</tr>\n",
       "<tr>\n",
       "  <th>Diabetes</th>                                                   <td>  117.9766</td> <td>   13.469</td> <td>    8.759</td> <td> 0.000</td> <td>   91.568</td> <td>  144.385</td>\n",
       "</tr>\n",
       "<tr>\n",
       "  <th>Sexually.transmitted.infections</th>                            <td>   -0.0011</td> <td>    0.001</td> <td>   -0.958</td> <td> 0.338</td> <td>   -0.003</td> <td>    0.001</td>\n",
       "</tr>\n",
       "<tr>\n",
       "  <th>Uninsured</th>                                                  <td>  104.1460</td> <td>    4.793</td> <td>   21.729</td> <td> 0.000</td> <td>   94.748</td> <td>  113.544</td>\n",
       "</tr>\n",
       "<tr>\n",
       "  <th>Unemployment</th>                                               <td>  -71.4000</td> <td>    7.158</td> <td>   -9.975</td> <td> 0.000</td> <td>  -85.435</td> <td>  -57.365</td>\n",
       "</tr>\n",
       "<tr>\n",
       "  <th>Violent.crime</th>                                              <td>   -0.0017</td> <td>    0.001</td> <td>   -1.814</td> <td> 0.070</td> <td>   -0.004</td> <td>    0.000</td>\n",
       "</tr>\n",
       "<tr>\n",
       "  <th>Injury.deaths</th>                                              <td>    0.0329</td> <td>    0.009</td> <td>    3.590</td> <td> 0.000</td> <td>    0.015</td> <td>    0.051</td>\n",
       "</tr>\n",
       "</table>\n",
       "<table class=\"simpletable\">\n",
       "<tr>\n",
       "  <th>Omnibus:</th>       <td>23.185</td> <th>  Durbin-Watson:     </th> <td>   1.789</td>\n",
       "</tr>\n",
       "<tr>\n",
       "  <th>Prob(Omnibus):</th> <td> 0.000</td> <th>  Jarque-Bera (JB):  </th> <td>  28.503</td>\n",
       "</tr>\n",
       "<tr>\n",
       "  <th>Skew:</th>          <td>-0.127</td> <th>  Prob(JB):          </th> <td>6.47e-07</td>\n",
       "</tr>\n",
       "<tr>\n",
       "  <th>Kurtosis:</th>      <td> 3.392</td> <th>  Cond. No.          </th> <td>9.90e+08</td>\n",
       "</tr>\n",
       "</table><br/><br/>Warnings:<br/>[1] Standard Errors assume that the covariance matrix of the errors is correctly specified.<br/>[2] The condition number is large, 9.9e+08. This might indicate that there are<br/>strong multicollinearity or other numerical problems."
      ],
      "text/plain": [
       "<class 'statsmodels.iolib.summary.Summary'>\n",
       "\"\"\"\n",
       "                               OLS Regression Results                              \n",
       "===================================================================================\n",
       "Dep. Variable:     Republicans12_VoteShare   R-squared:                       0.706\n",
       "Model:                                 OLS   Adj. R-squared:                  0.702\n",
       "Method:                      Least Squares   F-statistic:                     186.0\n",
       "Date:                     Sun, 02 Feb 2020   Prob (F-statistic):               0.00\n",
       "Time:                             16:36:58   Log-Likelihood:                -11033.\n",
       "No. Observations:                     3141   AIC:                         2.215e+04\n",
       "Df Residuals:                         3100   BIC:                         2.240e+04\n",
       "Df Model:                               40                                         \n",
       "Covariance Type:                 nonrobust                                         \n",
       "==============================================================================================================================\n",
       "                                                                 coef    std err          t      P>|t|      [0.025      0.975]\n",
       "------------------------------------------------------------------------------------------------------------------------------\n",
       "const                                                        145.7648    416.213      0.350      0.726    -670.315     961.845\n",
       "Precincts                                                     -0.0015      0.002     -0.651      0.515      -0.006       0.003\n",
       "Votes                                                      -3.055e-05   6.15e-06     -4.970      0.000   -4.26e-05   -1.85e-05\n",
       "Less Than High School Diploma                                 -0.0268      0.088     -0.303      0.762      -0.200       0.147\n",
       "At Least High School Diploma                                  -0.1214      0.081     -1.496      0.135      -0.281       0.038\n",
       "At Least Bachelors's Degree                                   -0.2438      0.068     -3.608      0.000      -0.376      -0.111\n",
       "Graduate Degree                                               -0.7486      0.115     -6.522      0.000      -0.974      -0.524\n",
       "School Enrollment                                              0.0252      0.035      0.713      0.476      -0.044       0.094\n",
       "Median Earnings 2010                                       -6.248e-05   5.67e-05     -1.103      0.270      -0.000    4.86e-05\n",
       "White (Not Latino) Population                                 -0.6537      3.013     -0.217      0.828      -6.561       5.253\n",
       "African American Population                                   -1.3266      3.012     -0.440      0.660      -7.233       4.580\n",
       "Native American Population                                    -1.2717      3.013     -0.422      0.673      -7.179       4.636\n",
       "Asian American Population                                     -1.2453      3.014     -0.413      0.680      -7.155       4.664\n",
       "Other Race or Races                                           -1.3828      3.015     -0.459      0.647      -7.295       4.529\n",
       "Latino Population                                             -1.2529      3.013     -0.416      0.678      -7.161       4.655\n",
       "Children Under 6 Living in Poverty                            -0.0242      0.028     -0.856      0.392      -0.080       0.031\n",
       "Adults 65 and Older Living in Poverty                         -0.0749      0.047     -1.583      0.114      -0.168       0.018\n",
       "Total Population                                            7.756e-06   2.43e-06      3.189      0.001    2.99e-06    1.25e-05\n",
       "Preschool.Enrollment.Ratio.enrolled.ages.3.and.4              -0.0025      0.011     -0.218      0.828      -0.025       0.020\n",
       "Poverty.Rate.below.federal.poverty.threshold                  -0.5889      0.098     -6.020      0.000      -0.781      -0.397\n",
       "Gini.Coefficient                                              17.8468      6.058      2.946      0.003       5.968      29.726\n",
       "Child.Poverty.living.in.families.below.the.poverty.line        0.1526      0.059      2.608      0.009       0.038       0.267\n",
       "Management.professional.and.related.occupations                0.6165      2.888      0.213      0.831      -5.046       6.279\n",
       "Service.occupations                                           -0.1016      2.888     -0.035      0.972      -5.765       5.562\n",
       "Sales.and.office.occupations                                   0.3747      2.887      0.130      0.897      -5.286       6.035\n",
       "Farming.fishing.and.forestry.occupations                       0.4105      2.889      0.142      0.887      -5.253       6.074\n",
       "Construction.extraction.maintenance.and.repair.occupations     0.4350      2.888      0.151      0.880      -5.227       6.097\n",
       "Production.transportation.and.material.moving.occupations      0.0602      2.888      0.021      0.983      -5.602       5.723\n",
       "SIRE_homogeneity                                             -24.7502      1.887    -13.117      0.000     -28.450     -21.051\n",
       "median_age                                                    -0.6023      0.050    -12.071      0.000      -0.700      -0.504\n",
       "Low.birthweight                                               56.5937     12.274      4.611      0.000      32.528      80.659\n",
       "Teen.births                                                    0.1302      0.015      8.427      0.000       0.100       0.160\n",
       "Children.in.single.parent.households                         -33.3328      2.714    -12.284      0.000     -38.653     -28.012\n",
       "Adult.smoking                                                -11.6085      3.358     -3.457      0.001     -18.192      -5.025\n",
       "Adult.obesity                                                 -4.1708      6.497     -0.642      0.521     -16.911       8.569\n",
       "Diabetes                                                     117.9766     13.469      8.759      0.000      91.568     144.385\n",
       "Sexually.transmitted.infections                               -0.0011      0.001     -0.958      0.338      -0.003       0.001\n",
       "Uninsured                                                    104.1460      4.793     21.729      0.000      94.748     113.544\n",
       "Unemployment                                                 -71.4000      7.158     -9.975      0.000     -85.435     -57.365\n",
       "Violent.crime                                                 -0.0017      0.001     -1.814      0.070      -0.004       0.000\n",
       "Injury.deaths                                                  0.0329      0.009      3.590      0.000       0.015       0.051\n",
       "==============================================================================\n",
       "Omnibus:                       23.185   Durbin-Watson:                   1.789\n",
       "Prob(Omnibus):                  0.000   Jarque-Bera (JB):               28.503\n",
       "Skew:                          -0.127   Prob(JB):                     6.47e-07\n",
       "Kurtosis:                       3.392   Cond. No.                     9.90e+08\n",
       "==============================================================================\n",
       "\n",
       "Warnings:\n",
       "[1] Standard Errors assume that the covariance matrix of the errors is correctly specified.\n",
       "[2] The condition number is large, 9.9e+08. This might indicate that there are\n",
       "strong multicollinearity or other numerical problems.\n",
       "\"\"\""
      ]
     },
     "execution_count": 9,
     "metadata": {},
     "output_type": "execute_result"
    }
   ],
   "source": [
    "lm = sm.OLS(vote_df['Republicans12_VoteShare'], sm.add_constant(demo_df)).fit()\n",
    "lm.summary()"
   ]
  },
  {
   "cell_type": "markdown",
   "metadata": {},
   "source": [
    "Even though the model has a good performance with $R^2 = 0.706$, many of the demographic factors have high p-value indicating insignificance of their coefficient. As all of the demographic factors were shown to have statistically significant correlations with republican vote share, statistical insignificance of the coefficients are sign of multicolinearity. To eliminate multicolinearity, several methods were tried. The most effective method is presented first followed by comparision with other methods as reference."
   ]
  },
  {
   "cell_type": "markdown",
   "metadata": {},
   "source": [
    "## Correlation-based Variable Selection"
   ]
  },
  {
   "cell_type": "markdown",
   "metadata": {},
   "source": [
    "In this method, a cut off correlation coefficient of 0.3 is used to eliminate factors with weak relationship based on a [article](https://www.ingentaconnect.com/content/wk/ane/2018/00000126/00000005/art00051). Then the model is run as follows:"
   ]
  },
  {
   "cell_type": "code",
   "execution_count": 10,
   "metadata": {},
   "outputs": [
    {
     "data": {
      "text/html": [
       "<table class=\"simpletable\">\n",
       "<caption>OLS Regression Results</caption>\n",
       "<tr>\n",
       "  <th>Dep. Variable:</th>    <td>Republicans12_VoteShare</td> <th>  R-squared:         </th> <td>   0.465</td> \n",
       "</tr>\n",
       "<tr>\n",
       "  <th>Model:</th>                      <td>OLS</td>           <th>  Adj. R-squared:    </th> <td>   0.463</td> \n",
       "</tr>\n",
       "<tr>\n",
       "  <th>Method:</th>                <td>Least Squares</td>      <th>  F-statistic:       </th> <td>   247.3</td> \n",
       "</tr>\n",
       "<tr>\n",
       "  <th>Date:</th>                <td>Sun, 02 Feb 2020</td>     <th>  Prob (F-statistic):</th>  <td>  0.00</td>  \n",
       "</tr>\n",
       "<tr>\n",
       "  <th>Time:</th>                    <td>16:36:58</td>         <th>  Log-Likelihood:    </th> <td> -11972.</td> \n",
       "</tr>\n",
       "<tr>\n",
       "  <th>No. Observations:</th>         <td>  3141</td>          <th>  AIC:               </th> <td>2.397e+04</td>\n",
       "</tr>\n",
       "<tr>\n",
       "  <th>Df Residuals:</th>             <td>  3129</td>          <th>  BIC:               </th> <td>2.404e+04</td>\n",
       "</tr>\n",
       "<tr>\n",
       "  <th>Df Model:</th>                 <td>    11</td>          <th>                     </th>     <td> </td>    \n",
       "</tr>\n",
       "<tr>\n",
       "  <th>Covariance Type:</th>         <td>nonrobust</td>        <th>                     </th>     <td> </td>    \n",
       "</tr>\n",
       "</table>\n",
       "<table class=\"simpletable\">\n",
       "<tr>\n",
       "                               <td></td>                                 <th>coef</th>     <th>std err</th>      <th>t</th>      <th>P>|t|</th>  <th>[0.025</th>    <th>0.975]</th>  \n",
       "</tr>\n",
       "<tr>\n",
       "  <th>const</th>                                                      <td>   72.5766</td> <td>    2.429</td> <td>   29.879</td> <td> 0.000</td> <td>   67.814</td> <td>   77.339</td>\n",
       "</tr>\n",
       "<tr>\n",
       "  <th>White (Not Latino) Population</th>                              <td>    0.1233</td> <td>    0.016</td> <td>    7.794</td> <td> 0.000</td> <td>    0.092</td> <td>    0.154</td>\n",
       "</tr>\n",
       "<tr>\n",
       "  <th>Children.in.single.parent.households</th>                       <td>  -37.2271</td> <td>    3.143</td> <td>  -11.845</td> <td> 0.000</td> <td>  -43.389</td> <td>  -31.065</td>\n",
       "</tr>\n",
       "<tr>\n",
       "  <th>Sexually.transmitted.infections</th>                            <td>   -0.0010</td> <td>    0.001</td> <td>   -0.826</td> <td> 0.409</td> <td>   -0.003</td> <td>    0.001</td>\n",
       "</tr>\n",
       "<tr>\n",
       "  <th>African American Population</th>                                <td>   -0.0509</td> <td>    0.021</td> <td>   -2.418</td> <td> 0.016</td> <td>   -0.092</td> <td>   -0.010</td>\n",
       "</tr>\n",
       "<tr>\n",
       "  <th>Graduate Degree</th>                                            <td>   -0.6330</td> <td>    0.140</td> <td>   -4.512</td> <td> 0.000</td> <td>   -0.908</td> <td>   -0.358</td>\n",
       "</tr>\n",
       "<tr>\n",
       "  <th>Construction.extraction.maintenance.and.repair.occupations</th> <td>    0.7775</td> <td>    0.066</td> <td>   11.770</td> <td> 0.000</td> <td>    0.648</td> <td>    0.907</td>\n",
       "</tr>\n",
       "<tr>\n",
       "  <th>Unemployment</th>                                               <td> -111.6751</td> <td>    8.636</td> <td>  -12.931</td> <td> 0.000</td> <td> -128.609</td> <td>  -94.741</td>\n",
       "</tr>\n",
       "<tr>\n",
       "  <th>Asian American Population</th>                                  <td>   -0.2867</td> <td>    0.103</td> <td>   -2.785</td> <td> 0.005</td> <td>   -0.489</td> <td>   -0.085</td>\n",
       "</tr>\n",
       "<tr>\n",
       "  <th>At Least Bachelors's Degree</th>                                <td>   -0.2818</td> <td>    0.067</td> <td>   -4.220</td> <td> 0.000</td> <td>   -0.413</td> <td>   -0.151</td>\n",
       "</tr>\n",
       "<tr>\n",
       "  <th>Votes</th>                                                      <td>-8.418e-06</td> <td> 2.08e-06</td> <td>   -4.038</td> <td> 0.000</td> <td>-1.25e-05</td> <td>-4.33e-06</td>\n",
       "</tr>\n",
       "<tr>\n",
       "  <th>Violent.crime</th>                                              <td>    0.0032</td> <td>    0.001</td> <td>    2.630</td> <td> 0.009</td> <td>    0.001</td> <td>    0.006</td>\n",
       "</tr>\n",
       "</table>\n",
       "<table class=\"simpletable\">\n",
       "<tr>\n",
       "  <th>Omnibus:</th>       <td>52.696</td> <th>  Durbin-Watson:     </th> <td>   1.560</td>\n",
       "</tr>\n",
       "<tr>\n",
       "  <th>Prob(Omnibus):</th> <td> 0.000</td> <th>  Jarque-Bera (JB):  </th> <td>  55.040</td>\n",
       "</tr>\n",
       "<tr>\n",
       "  <th>Skew:</th>          <td>-0.324</td> <th>  Prob(JB):          </th> <td>1.12e-12</td>\n",
       "</tr>\n",
       "<tr>\n",
       "  <th>Kurtosis:</th>      <td> 3.033</td> <th>  Cond. No.          </th> <td>5.34e+06</td>\n",
       "</tr>\n",
       "</table><br/><br/>Warnings:<br/>[1] Standard Errors assume that the covariance matrix of the errors is correctly specified.<br/>[2] The condition number is large, 5.34e+06. This might indicate that there are<br/>strong multicollinearity or other numerical problems."
      ],
      "text/plain": [
       "<class 'statsmodels.iolib.summary.Summary'>\n",
       "\"\"\"\n",
       "                               OLS Regression Results                              \n",
       "===================================================================================\n",
       "Dep. Variable:     Republicans12_VoteShare   R-squared:                       0.465\n",
       "Model:                                 OLS   Adj. R-squared:                  0.463\n",
       "Method:                      Least Squares   F-statistic:                     247.3\n",
       "Date:                     Sun, 02 Feb 2020   Prob (F-statistic):               0.00\n",
       "Time:                             16:36:58   Log-Likelihood:                -11972.\n",
       "No. Observations:                     3141   AIC:                         2.397e+04\n",
       "Df Residuals:                         3129   BIC:                         2.404e+04\n",
       "Df Model:                               11                                         \n",
       "Covariance Type:                 nonrobust                                         \n",
       "==============================================================================================================================\n",
       "                                                                 coef    std err          t      P>|t|      [0.025      0.975]\n",
       "------------------------------------------------------------------------------------------------------------------------------\n",
       "const                                                         72.5766      2.429     29.879      0.000      67.814      77.339\n",
       "White (Not Latino) Population                                  0.1233      0.016      7.794      0.000       0.092       0.154\n",
       "Children.in.single.parent.households                         -37.2271      3.143    -11.845      0.000     -43.389     -31.065\n",
       "Sexually.transmitted.infections                               -0.0010      0.001     -0.826      0.409      -0.003       0.001\n",
       "African American Population                                   -0.0509      0.021     -2.418      0.016      -0.092      -0.010\n",
       "Graduate Degree                                               -0.6330      0.140     -4.512      0.000      -0.908      -0.358\n",
       "Construction.extraction.maintenance.and.repair.occupations     0.7775      0.066     11.770      0.000       0.648       0.907\n",
       "Unemployment                                                -111.6751      8.636    -12.931      0.000    -128.609     -94.741\n",
       "Asian American Population                                     -0.2867      0.103     -2.785      0.005      -0.489      -0.085\n",
       "At Least Bachelors's Degree                                   -0.2818      0.067     -4.220      0.000      -0.413      -0.151\n",
       "Votes                                                      -8.418e-06   2.08e-06     -4.038      0.000   -1.25e-05   -4.33e-06\n",
       "Violent.crime                                                  0.0032      0.001      2.630      0.009       0.001       0.006\n",
       "==============================================================================\n",
       "Omnibus:                       52.696   Durbin-Watson:                   1.560\n",
       "Prob(Omnibus):                  0.000   Jarque-Bera (JB):               55.040\n",
       "Skew:                          -0.324   Prob(JB):                     1.12e-12\n",
       "Kurtosis:                       3.033   Cond. No.                     5.34e+06\n",
       "==============================================================================\n",
       "\n",
       "Warnings:\n",
       "[1] Standard Errors assume that the covariance matrix of the errors is correctly specified.\n",
       "[2] The condition number is large, 5.34e+06. This might indicate that there are\n",
       "strong multicollinearity or other numerical problems.\n",
       "\"\"\""
      ]
     },
     "execution_count": 10,
     "metadata": {},
     "output_type": "execute_result"
    }
   ],
   "source": [
    "feature_list = corr12_df.loc[0:10,'Demographic info']\n",
    "corr_lm = sm.OLS(vote_df['Republicans12_VoteShare'], sm.add_constant(data_df[feature_list])).fit()\n",
    "corr_lm.summary()"
   ]
  },
  {
   "cell_type": "markdown",
   "metadata": {},
   "source": [
    "Only one of the factors had p-value>5%, so it was droped and a model was created based on remaining factors:"
   ]
  },
  {
   "cell_type": "code",
   "execution_count": 11,
   "metadata": {
    "scrolled": true
   },
   "outputs": [
    {
     "data": {
      "text/plain": [
       "0                         White (Not Latino) Population\n",
       "1                  Children.in.single.parent.households\n",
       "3                           African American Population\n",
       "4                                       Graduate Degree\n",
       "5     Construction.extraction.maintenance.and.repair...\n",
       "6                                          Unemployment\n",
       "7                             Asian American Population\n",
       "8                           At Least Bachelors's Degree\n",
       "9                                                 Votes\n",
       "10                                        Violent.crime\n",
       "Name: Demographic info, dtype: object"
      ]
     },
     "execution_count": 11,
     "metadata": {},
     "output_type": "execute_result"
    }
   ],
   "source": [
    "feature_list.drop(2, inplace=True)\n",
    "feature_list"
   ]
  },
  {
   "cell_type": "code",
   "execution_count": 12,
   "metadata": {},
   "outputs": [
    {
     "data": {
      "text/html": [
       "<table class=\"simpletable\">\n",
       "<caption>OLS Regression Results</caption>\n",
       "<tr>\n",
       "  <th>Dep. Variable:</th>    <td>Republicans12_VoteShare</td> <th>  R-squared:         </th> <td>   0.465</td> \n",
       "</tr>\n",
       "<tr>\n",
       "  <th>Model:</th>                      <td>OLS</td>           <th>  Adj. R-squared:    </th> <td>   0.463</td> \n",
       "</tr>\n",
       "<tr>\n",
       "  <th>Method:</th>                <td>Least Squares</td>      <th>  F-statistic:       </th> <td>   272.0</td> \n",
       "</tr>\n",
       "<tr>\n",
       "  <th>Date:</th>                <td>Sun, 02 Feb 2020</td>     <th>  Prob (F-statistic):</th>  <td>  0.00</td>  \n",
       "</tr>\n",
       "<tr>\n",
       "  <th>Time:</th>                    <td>16:36:59</td>         <th>  Log-Likelihood:    </th> <td> -11973.</td> \n",
       "</tr>\n",
       "<tr>\n",
       "  <th>No. Observations:</th>         <td>  3141</td>          <th>  AIC:               </th> <td>2.397e+04</td>\n",
       "</tr>\n",
       "<tr>\n",
       "  <th>Df Residuals:</th>             <td>  3130</td>          <th>  BIC:               </th> <td>2.403e+04</td>\n",
       "</tr>\n",
       "<tr>\n",
       "  <th>Df Model:</th>                 <td>    10</td>          <th>                     </th>     <td> </td>    \n",
       "</tr>\n",
       "<tr>\n",
       "  <th>Covariance Type:</th>         <td>nonrobust</td>        <th>                     </th>     <td> </td>    \n",
       "</tr>\n",
       "</table>\n",
       "<table class=\"simpletable\">\n",
       "<tr>\n",
       "                               <td></td>                                 <th>coef</th>     <th>std err</th>      <th>t</th>      <th>P>|t|</th>  <th>[0.025</th>    <th>0.975]</th>  \n",
       "</tr>\n",
       "<tr>\n",
       "  <th>const</th>                                                      <td>   72.0064</td> <td>    2.329</td> <td>   30.921</td> <td> 0.000</td> <td>   67.440</td> <td>   76.572</td>\n",
       "</tr>\n",
       "<tr>\n",
       "  <th>White (Not Latino) Population</th>                              <td>    0.1282</td> <td>    0.015</td> <td>    8.766</td> <td> 0.000</td> <td>    0.100</td> <td>    0.157</td>\n",
       "</tr>\n",
       "<tr>\n",
       "  <th>Children.in.single.parent.households</th>                       <td>  -37.7876</td> <td>    3.068</td> <td>  -12.315</td> <td> 0.000</td> <td>  -43.804</td> <td>  -31.771</td>\n",
       "</tr>\n",
       "<tr>\n",
       "  <th>African American Population</th>                                <td>   -0.0556</td> <td>    0.020</td> <td>   -2.748</td> <td> 0.006</td> <td>   -0.095</td> <td>   -0.016</td>\n",
       "</tr>\n",
       "<tr>\n",
       "  <th>Graduate Degree</th>                                            <td>   -0.6316</td> <td>    0.140</td> <td>   -4.502</td> <td> 0.000</td> <td>   -0.907</td> <td>   -0.357</td>\n",
       "</tr>\n",
       "<tr>\n",
       "  <th>Construction.extraction.maintenance.and.repair.occupations</th> <td>    0.7865</td> <td>    0.065</td> <td>   12.075</td> <td> 0.000</td> <td>    0.659</td> <td>    0.914</td>\n",
       "</tr>\n",
       "<tr>\n",
       "  <th>Unemployment</th>                                               <td> -111.5886</td> <td>    8.635</td> <td>  -12.922</td> <td> 0.000</td> <td> -128.520</td> <td>  -94.657</td>\n",
       "</tr>\n",
       "<tr>\n",
       "  <th>Asian American Population</th>                                  <td>   -0.2767</td> <td>    0.102</td> <td>   -2.706</td> <td> 0.007</td> <td>   -0.477</td> <td>   -0.076</td>\n",
       "</tr>\n",
       "<tr>\n",
       "  <th>At Least Bachelors's Degree</th>                                <td>   -0.2843</td> <td>    0.067</td> <td>   -4.261</td> <td> 0.000</td> <td>   -0.415</td> <td>   -0.153</td>\n",
       "</tr>\n",
       "<tr>\n",
       "  <th>Votes</th>                                                      <td>-8.367e-06</td> <td> 2.08e-06</td> <td>   -4.016</td> <td> 0.000</td> <td>-1.25e-05</td> <td>-4.28e-06</td>\n",
       "</tr>\n",
       "<tr>\n",
       "  <th>Violent.crime</th>                                              <td>    0.0030</td> <td>    0.001</td> <td>    2.538</td> <td> 0.011</td> <td>    0.001</td> <td>    0.005</td>\n",
       "</tr>\n",
       "</table>\n",
       "<table class=\"simpletable\">\n",
       "<tr>\n",
       "  <th>Omnibus:</th>       <td>51.553</td> <th>  Durbin-Watson:     </th> <td>   1.560</td>\n",
       "</tr>\n",
       "<tr>\n",
       "  <th>Prob(Omnibus):</th> <td> 0.000</td> <th>  Jarque-Bera (JB):  </th> <td>  53.798</td>\n",
       "</tr>\n",
       "<tr>\n",
       "  <th>Skew:</th>          <td>-0.320</td> <th>  Prob(JB):          </th> <td>2.08e-12</td>\n",
       "</tr>\n",
       "<tr>\n",
       "  <th>Kurtosis:</th>      <td> 3.028</td> <th>  Cond. No.          </th> <td>5.34e+06</td>\n",
       "</tr>\n",
       "</table><br/><br/>Warnings:<br/>[1] Standard Errors assume that the covariance matrix of the errors is correctly specified.<br/>[2] The condition number is large, 5.34e+06. This might indicate that there are<br/>strong multicollinearity or other numerical problems."
      ],
      "text/plain": [
       "<class 'statsmodels.iolib.summary.Summary'>\n",
       "\"\"\"\n",
       "                               OLS Regression Results                              \n",
       "===================================================================================\n",
       "Dep. Variable:     Republicans12_VoteShare   R-squared:                       0.465\n",
       "Model:                                 OLS   Adj. R-squared:                  0.463\n",
       "Method:                      Least Squares   F-statistic:                     272.0\n",
       "Date:                     Sun, 02 Feb 2020   Prob (F-statistic):               0.00\n",
       "Time:                             16:36:59   Log-Likelihood:                -11973.\n",
       "No. Observations:                     3141   AIC:                         2.397e+04\n",
       "Df Residuals:                         3130   BIC:                         2.403e+04\n",
       "Df Model:                               10                                         \n",
       "Covariance Type:                 nonrobust                                         \n",
       "==============================================================================================================================\n",
       "                                                                 coef    std err          t      P>|t|      [0.025      0.975]\n",
       "------------------------------------------------------------------------------------------------------------------------------\n",
       "const                                                         72.0064      2.329     30.921      0.000      67.440      76.572\n",
       "White (Not Latino) Population                                  0.1282      0.015      8.766      0.000       0.100       0.157\n",
       "Children.in.single.parent.households                         -37.7876      3.068    -12.315      0.000     -43.804     -31.771\n",
       "African American Population                                   -0.0556      0.020     -2.748      0.006      -0.095      -0.016\n",
       "Graduate Degree                                               -0.6316      0.140     -4.502      0.000      -0.907      -0.357\n",
       "Construction.extraction.maintenance.and.repair.occupations     0.7865      0.065     12.075      0.000       0.659       0.914\n",
       "Unemployment                                                -111.5886      8.635    -12.922      0.000    -128.520     -94.657\n",
       "Asian American Population                                     -0.2767      0.102     -2.706      0.007      -0.477      -0.076\n",
       "At Least Bachelors's Degree                                   -0.2843      0.067     -4.261      0.000      -0.415      -0.153\n",
       "Votes                                                      -8.367e-06   2.08e-06     -4.016      0.000   -1.25e-05   -4.28e-06\n",
       "Violent.crime                                                  0.0030      0.001      2.538      0.011       0.001       0.005\n",
       "==============================================================================\n",
       "Omnibus:                       51.553   Durbin-Watson:                   1.560\n",
       "Prob(Omnibus):                  0.000   Jarque-Bera (JB):               53.798\n",
       "Skew:                          -0.320   Prob(JB):                     2.08e-12\n",
       "Kurtosis:                       3.028   Cond. No.                     5.34e+06\n",
       "==============================================================================\n",
       "\n",
       "Warnings:\n",
       "[1] Standard Errors assume that the covariance matrix of the errors is correctly specified.\n",
       "[2] The condition number is large, 5.34e+06. This might indicate that there are\n",
       "strong multicollinearity or other numerical problems.\n",
       "\"\"\""
      ]
     },
     "execution_count": 12,
     "metadata": {},
     "output_type": "execute_result"
    }
   ],
   "source": [
    "corr_lm = sm.OLS(vote_df['Republicans12_VoteShare'], sm.add_constant(data_df[feature_list])).fit()\n",
    "corr_lm.summary()"
   ]
  },
  {
   "cell_type": "markdown",
   "metadata": {},
   "source": [
    "In this model, all factors are statistically significant while $R^2$ is exactly same as the one before. The fact that there is a considerable difference between the performance of this model with that of the model with all factors can be explained by the fact that there are a large number of factors (10) with corrlations 0.2-0.3 which could have contributed to accuracy. An attempt to include these factors showed that they are colinear by the existing factors and therefore not reasonable from the statistical significance stand point. "
   ]
  },
  {
   "cell_type": "markdown",
   "metadata": {},
   "source": [
    "This performance of this model is better compared to other statistically significant models because it prioritizes and incorporates high-correlation factors and allows them to have large p-value in the first phase. Table of coefficient for the first phase shows that many high-correlation factors below *Sexually.transmitted.infections* have negligible p-values and thus ideal to stay in the model. More specifically, experiment showed that only top 4 factors can be added before any factor having large p-value. This model leads to $R^2=0.243$ which is significantly below performance of the proposed model."
   ]
  },
  {
   "cell_type": "markdown",
   "metadata": {},
   "source": [
    "To create a visual insight, numerical values of the coefficient were normalized based on the range of the factor and sorted in descending order. The following figure visualizes the effect of each parameter on the republican vote share:"
   ]
  },
  {
   "cell_type": "code",
   "execution_count": 13,
   "metadata": {
    "scrolled": true
   },
   "outputs": [
    {
     "data": {
      "text/plain": [
       "Text(0, 0.5, ' Demographic Factor')"
      ]
     },
     "execution_count": 13,
     "metadata": {},
     "output_type": "execute_result"
    },
    {
     "data": {
      "image/png": "[encoded data removed]",
      "text/plain": [
       "<Figure size 432x288 with 1 Axes>"
      ]
     },
     "metadata": {
      "needs_background": "light"
     },
     "output_type": "display_data"
    }
   ],
   "source": [
    "coef_table = corr_lm.summary().tables[1] # access coefficient table seperately \n",
    "coef_df = pd.DataFrame(data=coef_table.data[1:], columns = coef_table.data[0]) # create dataframe of values in coefficient table\n",
    "coef_df.drop(0, axis = 'index', inplace = True) # drop index axis as it is not needed in the visualization\n",
    "coef_df['coef'] = coef_df['coef'].astype(float) # cast coefficient data to numeric type\n",
    "coef_df['P>|t|'] = coef_df['P>|t|'].astype(float) # cast coefficient data to numeric type\n",
    "coef_df[coef_df['P>|t|'] >= 0.05] # create list of high p-vale factors\n",
    "coef_df.rename({'':'demo_factor'}, axis = 'columns', inplace=True) # assign name to features column \n",
    "# normalize coefficients and sort based on absolute values\n",
    "coef_df['adj_coef'] = coef_df['coef'].multiply((data_df[coef_df['demo_factor']].max()-data_df[coef_df['demo_factor']].min()).values)\n",
    "coef_df['abs_adj_coef'] = np.abs(coef_df['adj_coef']) \n",
    "coef_df.sort_values(by = 'abs_adj_coef', ascending = False, inplace = True)\n",
    "\n",
    "bar_label = coef_df['demo_factor']\n",
    "bar_length = coef_df['adj_coef']\n",
    "bar_color = np.where(bar_length > 0, 'blue', 'red')\n",
    "plt.barh(bar_label, bar_length, color = bar_color)\n",
    "plt.title('Effect of Important Demographic Factors on Election Results')\n",
    "plt.xlabel('Adjusted Coefficient')\n",
    "plt.ylabel(' Demographic Factor')"
   ]
  },
  {
   "cell_type": "markdown",
   "metadata": {},
   "source": [
    "The prominant factors (e.g., unemployment, single parenthood, and graduate degree) have strong intuition for their relation with vote shares. This is due to the fact that these factors were primarily selected based on their correlation."
   ]
  },
  {
   "cell_type": "markdown",
   "metadata": {},
   "source": [
    "## Model Evaluation"
   ]
  },
  {
   "cell_type": "markdown",
   "metadata": {},
   "source": [
    "This section describes methods used to evaluated the model. First, performance results from the OLS regression algorithm are analyzed and compared with the full feature model. Then, normality and homoscdacticity of the residuals are visualized and analyzed."
   ]
  },
  {
   "cell_type": "markdown",
   "metadata": {},
   "source": [
    "### $R^2$ Performance"
   ]
  },
  {
   "cell_type": "markdown",
   "metadata": {},
   "source": [
    "The performance measured by $R^2$ is reduced to 0.329; however, all remaining features are statistically significant with very nigligible p-values."
   ]
  },
  {
   "cell_type": "markdown",
   "metadata": {},
   "source": [
    "### Normality and Homoscdacity of Residuals"
   ]
  },
  {
   "cell_type": "markdown",
   "metadata": {},
   "source": [
    "The distribution of residuals of the model is obtained as follows:"
   ]
  },
  {
   "cell_type": "code",
   "execution_count": 14,
   "metadata": {},
   "outputs": [
    {
     "data": {
      "text/plain": [
       "(array([  7.,   6.,  23.,  42.,  50.,  95., 151., 202., 298., 329., 394.,\n",
       "        401., 381., 317., 229., 119.,  55.,  32.,   6.,   4.]),\n",
       " array([-38.20356745, -34.64639507, -31.08922268, -27.5320503 ,\n",
       "        -23.97487792, -20.41770554, -16.86053316, -13.30336078,\n",
       "         -9.7461884 ,  -6.18901602,  -2.63184364,   0.92532874,\n",
       "          4.48250112,   8.0396735 ,  11.59684588,  15.15401827,\n",
       "         18.71119065,  22.26836303,  25.82553541,  29.38270779,\n",
       "         32.93988017]),\n",
       " <a list of 20 Patch objects>)"
      ]
     },
     "execution_count": 14,
     "metadata": {},
     "output_type": "execute_result"
    },
    {
     "data": {
      "image/png": "[encoded data removed]",
      "text/plain": [
       "<Figure size 432x288 with 1 Axes>"
      ]
     },
     "metadata": {
      "needs_background": "light"
     },
     "output_type": "display_data"
    }
   ],
   "source": [
    "plt.hist(corr_lm.resid, bins=20)"
   ]
  },
  {
   "cell_type": "markdown",
   "metadata": {},
   "source": [
    "The distribution is quite normal confirming the validity of the model."
   ]
  },
  {
   "cell_type": "markdown",
   "metadata": {},
   "source": [
    "The following figure shows the residuals with respect to the fitted values."
   ]
  },
  {
   "cell_type": "code",
   "execution_count": 15,
   "metadata": {
    "scrolled": true
   },
   "outputs": [
    {
     "data": {
      "text/plain": [
       "<matplotlib.collections.PathCollection at 0x1e64609cc88>"
      ]
     },
     "execution_count": 15,
     "metadata": {},
     "output_type": "execute_result"
    },
    {
     "data": {
      "image/png": "[encoded data removed]",
      "text/plain": [
       "<Figure size 432x288 with 1 Axes>"
      ]
     },
     "metadata": {
      "needs_background": "light"
     },
     "output_type": "display_data"
    }
   ],
   "source": [
    "plt.scatter(corr_lm.fittedvalues, lm.resid)"
   ]
  },
  {
   "cell_type": "markdown",
   "metadata": {},
   "source": [
    "The variance of residuals is quite uniform accross fitted values and there is no significant pattern of residual variation across fitted values:"
   ]
  },
  {
   "cell_type": "markdown",
   "metadata": {},
   "source": [
    "### Prediction Accuracy"
   ]
  },
  {
   "cell_type": "markdown",
   "metadata": {},
   "source": [
    "The created model is used to predict 2016 election results. The accuracy of the prediction for 2016 is compared to that of 2012 based on which the model was built. The following figure visualizes the predition errors for different counties. The average error for 2016 stands higher than 2012."
   ]
  },
  {
   "cell_type": "code",
   "execution_count": 16,
   "metadata": {},
   "outputs": [
    {
     "data": {
      "text/plain": [
       "['White (Not Latino) Population',\n",
       " 'Children.in.single.parent.households',\n",
       " 'African American Population',\n",
       " 'Graduate Degree',\n",
       " 'Construction.extraction.maintenance.and.repair.occupations',\n",
       " 'Unemployment',\n",
       " 'Asian American Population',\n",
       " \"At Least Bachelors's Degree\",\n",
       " 'Votes',\n",
       " 'Violent.crime']"
      ]
     },
     "execution_count": 16,
     "metadata": {},
     "output_type": "execute_result"
    }
   ],
   "source": [
    "list(feature_list.values)"
   ]
  },
  {
   "cell_type": "code",
   "execution_count": 17,
   "metadata": {
    "scrolled": false
   },
   "outputs": [
    {
     "data": {
      "text/plain": [
       "<matplotlib.legend.Legend at 0x1e646119bc8>"
      ]
     },
     "execution_count": 17,
     "metadata": {},
     "output_type": "execute_result"
    },
    {
     "data": {
      "image/png": "[encoded data removed]",
      "text/plain": [
       "<Figure size 432x288 with 1 Axes>"
      ]
     },
     "metadata": {
      "needs_background": "light"
     },
     "output_type": "display_data"
    }
   ],
   "source": [
    "prediction = corr_lm.predict(sm.add_constant(data_df[list(feature_list.values)]))\n",
    "plt.figure()\n",
    "plt.plot(vote_df['Republicans12_VoteShare']-prediction, '.', label='2012')\n",
    "plt.plot(vote_df['Republicans16_VoteShare']-prediction, '.', label='2016')\n",
    "plt.xlabel('Counties')\n",
    "plt.ylabel('Prediction Error (%)')\n",
    "plt.legend()"
   ]
  },
  {
   "cell_type": "markdown",
   "metadata": {},
   "source": [
    "To obtain a quntitative measure of accuracy, a metric is used based on sum of error squares as $\\sqrt\\frac{\\sum_{i=1}^N e_i^2}{N}$ where $e$ represents prediction error, $i$ denotes the index of the county, and $N$ designates the total number of counties (i.e., 3141). This metric is in the same unit as error which in turn has common units with the vote share (i.e., %). It is impremented as below and the results for 2012 and 2016 are visualized for comparison using a horzontal bar chart."
   ]
  },
  {
   "cell_type": "code",
   "execution_count": 18,
   "metadata": {
    "scrolled": true
   },
   "outputs": [
    {
     "data": {
      "text/plain": [
       "Text(0, 0.5, 'Election Year')"
      ]
     },
     "execution_count": 18,
     "metadata": {},
     "output_type": "execute_result"
    },
    {
     "data": {
      "image/png": "[encoded data removed]",
      "text/plain": [
       "<Figure size 432x288 with 1 Axes>"
      ]
     },
     "metadata": {
      "needs_background": "light"
     },
     "output_type": "display_data"
    }
   ],
   "source": [
    "error12 = np.sqrt(np.mean(np.power(vote_df['Republicans12_VoteShare']-prediction,2)))\n",
    "error16 = np.sqrt(np.mean(np.power(vote_df['Republicans16_VoteShare']-prediction,2)))\n",
    "plt.barh(['2012', '2016'], [error12, error16])\n",
    "plt.xlabel('Prediction Error (%)')\n",
    "plt.ylabel('Election Year')"
   ]
  },
  {
   "cell_type": "markdown",
   "metadata": {},
   "source": [
    "The prediction error is about 12% which is a reasonable performance. Furthermore, the prediction error is better for 2012 than 2016 because the model is built on 2012 data. This result is also compatible with prediction error scatter plot shown above."
   ]
  },
  {
   "cell_type": "markdown",
   "metadata": {},
   "source": [
    "## Model Evaluation"
   ]
  },
  {
   "cell_type": "markdown",
   "metadata": {},
   "source": [
    "This section describes methods used to evaluated the model. First, performance results from the OLS regression algorithm are analyzed and compared with the full feature model. Then, normality and homoscdacticity of the residuals are visualized and analyzed."
   ]
  },
  {
   "cell_type": "markdown",
   "metadata": {},
   "source": [
    "### $R^2$ Performance"
   ]
  },
  {
   "cell_type": "markdown",
   "metadata": {},
   "source": [
    "The performance measured by $R^2$ is reduced to 0.329; however, all remaining features are statistically significant with very nigligible p-values."
   ]
  },
  {
   "cell_type": "markdown",
   "metadata": {},
   "source": [
    "### Normality and Homoscdacity of Residuals"
   ]
  },
  {
   "cell_type": "markdown",
   "metadata": {},
   "source": [
    "The distribution of residuals of the model is obtained as follows:"
   ]
  },
  {
   "cell_type": "code",
   "execution_count": 19,
   "metadata": {},
   "outputs": [
    {
     "data": {
      "text/plain": [
       "(array([  7.,   6.,  23.,  42.,  50.,  95., 151., 202., 298., 329., 394.,\n",
       "        401., 381., 317., 229., 119.,  55.,  32.,   6.,   4.]),\n",
       " array([-38.20356745, -34.64639507, -31.08922268, -27.5320503 ,\n",
       "        -23.97487792, -20.41770554, -16.86053316, -13.30336078,\n",
       "         -9.7461884 ,  -6.18901602,  -2.63184364,   0.92532874,\n",
       "          4.48250112,   8.0396735 ,  11.59684588,  15.15401827,\n",
       "         18.71119065,  22.26836303,  25.82553541,  29.38270779,\n",
       "         32.93988017]),\n",
       " <a list of 20 Patch objects>)"
      ]
     },
     "execution_count": 19,
     "metadata": {},
     "output_type": "execute_result"
    },
    {
     "data": {
      "image/png": "[encoded data removed]",
      "text/plain": [
       "<Figure size 432x288 with 1 Axes>"
      ]
     },
     "metadata": {
      "needs_background": "light"
     },
     "output_type": "display_data"
    }
   ],
   "source": [
    "plt.hist(corr_lm.resid, bins=20)"
   ]
  },
  {
   "cell_type": "markdown",
   "metadata": {},
   "source": [
    "The distribution is quite normal confirming the validity of the model."
   ]
  },
  {
   "cell_type": "markdown",
   "metadata": {},
   "source": [
    "The following figure shows the residuals with respect to the fitted values."
   ]
  },
  {
   "cell_type": "code",
   "execution_count": 20,
   "metadata": {
    "scrolled": true
   },
   "outputs": [
    {
     "data": {
      "text/plain": [
       "<matplotlib.collections.PathCollection at 0x1e6462abc48>"
      ]
     },
     "execution_count": 20,
     "metadata": {},
     "output_type": "execute_result"
    },
    {
     "data": {
      "image/png": "[encoded data removed]",
      "text/plain": [
       "<Figure size 432x288 with 1 Axes>"
      ]
     },
     "metadata": {
      "needs_background": "light"
     },
     "output_type": "display_data"
    }
   ],
   "source": [
    "plt.scatter(corr_lm.fittedvalues, lm.resid)"
   ]
  },
  {
   "cell_type": "markdown",
   "metadata": {},
   "source": [
    "The variance of residuals is quite uniform accross fitted values and there is no significant pattern of residual variation across fitted values:"
   ]
  },
  {
   "cell_type": "markdown",
   "metadata": {},
   "source": [
    "### Prediction Accuracy"
   ]
  },
  {
   "cell_type": "markdown",
   "metadata": {},
   "source": [
    "The created model is used to predict 2016 election results. The accuracy of the prediction for 2016 is compared to that of 2012 based on which the model was built. The following figure visualizes the predition errors for different counties. The average error for 2016 stands higher than 2012."
   ]
  },
  {
   "cell_type": "code",
   "execution_count": 21,
   "metadata": {},
   "outputs": [
    {
     "data": {
      "text/plain": [
       "['White (Not Latino) Population',\n",
       " 'Children.in.single.parent.households',\n",
       " 'African American Population',\n",
       " 'Graduate Degree',\n",
       " 'Construction.extraction.maintenance.and.repair.occupations',\n",
       " 'Unemployment',\n",
       " 'Asian American Population',\n",
       " \"At Least Bachelors's Degree\",\n",
       " 'Votes',\n",
       " 'Violent.crime']"
      ]
     },
     "execution_count": 21,
     "metadata": {},
     "output_type": "execute_result"
    }
   ],
   "source": [
    "list(feature_list.values)"
   ]
  },
  {
   "cell_type": "code",
   "execution_count": 22,
   "metadata": {
    "scrolled": false
   },
   "outputs": [
    {
     "data": {
      "text/plain": [
       "<matplotlib.legend.Legend at 0x1e6460ee948>"
      ]
     },
     "execution_count": 22,
     "metadata": {},
     "output_type": "execute_result"
    },
    {
     "data": {
      "image/png": "[encoded data removed]",
      "text/plain": [
       "<Figure size 432x288 with 1 Axes>"
      ]
     },
     "metadata": {
      "needs_background": "light"
     },
     "output_type": "display_data"
    }
   ],
   "source": [
    "prediction = corr_lm.predict(sm.add_constant(data_df[list(feature_list.values)]))\n",
    "plt.figure()\n",
    "plt.plot(vote_df['Republicans12_VoteShare']-prediction, '.', label='2012')\n",
    "plt.plot(vote_df['Republicans16_VoteShare']-prediction, '.', label='2016')\n",
    "plt.xlabel('Counties')\n",
    "plt.ylabel('Prediction Error (%)')\n",
    "plt.legend()"
   ]
  },
  {
   "cell_type": "markdown",
   "metadata": {},
   "source": [
    "To obtain a quntitative measure of accuracy, a metric is used based on sum of error squares as $\\sqrt\\frac{\\sum_{i=1}^N e_i^2}{N}$ where $e$ represents prediction error, $i$ denotes the index of the county, and $N$ designates the total number of counties (i.e., 3141). This metric is in the same unit as error which in turn has common units with the vote share (i.e., %). It is impremented as below and the results for 2012 and 2016 are visualized for comparison using a horzontal bar chart."
   ]
  },
  {
   "cell_type": "code",
   "execution_count": 23,
   "metadata": {
    "scrolled": false
   },
   "outputs": [
    {
     "data": {
      "text/plain": [
       "Text(0, 0.5, 'Election Year')"
      ]
     },
     "execution_count": 23,
     "metadata": {},
     "output_type": "execute_result"
    },
    {
     "data": {
      "image/png": "[encoded data removed]",
      "text/plain": [
       "<Figure size 432x288 with 1 Axes>"
      ]
     },
     "metadata": {
      "needs_background": "light"
     },
     "output_type": "display_data"
    }
   ],
   "source": [
    "error12 = np.sqrt(np.mean(np.power(vote_df['Republicans12_VoteShare']-prediction,2)))\n",
    "error16 = np.sqrt(np.mean(np.power(vote_df['Republicans16_VoteShare']-prediction,2)))\n",
    "plt.barh(['2012', '2016'], [error12, error16])\n",
    "plt.xlabel('Prediction Error (%)')\n",
    "plt.ylabel('Election Year')"
   ]
  },
  {
   "cell_type": "markdown",
   "metadata": {},
   "source": [
    "## Model Evaluation"
   ]
  },
  {
   "cell_type": "markdown",
   "metadata": {},
   "source": [
    "This section describes methods used to evaluated the model. First, performance results from the OLS regression algorithm are analyzed and compared with the full feature model. Then, normality and homoscdacticity of the residuals are visualized and analyzed."
   ]
  },
  {
   "cell_type": "markdown",
   "metadata": {},
   "source": [
    "### $R^2$ Performance"
   ]
  },
  {
   "cell_type": "markdown",
   "metadata": {},
   "source": [
    "The performance measured by $R^2$ is reduced to 0.329; however, all remaining features are statistically significant with very nigligible p-values."
   ]
  },
  {
   "cell_type": "markdown",
   "metadata": {},
   "source": [
    "### Normality and Homoscdacity of Residuals"
   ]
  },
  {
   "cell_type": "markdown",
   "metadata": {},
   "source": [
    "The distribution of residuals of the model is obtained as follows:"
   ]
  },
  {
   "cell_type": "code",
   "execution_count": 24,
   "metadata": {},
   "outputs": [
    {
     "data": {
      "text/plain": [
       "(array([  7.,   6.,  23.,  42.,  50.,  95., 151., 202., 298., 329., 394.,\n",
       "        401., 381., 317., 229., 119.,  55.,  32.,   6.,   4.]),\n",
       " array([-38.20356745, -34.64639507, -31.08922268, -27.5320503 ,\n",
       "        -23.97487792, -20.41770554, -16.86053316, -13.30336078,\n",
       "         -9.7461884 ,  -6.18901602,  -2.63184364,   0.92532874,\n",
       "          4.48250112,   8.0396735 ,  11.59684588,  15.15401827,\n",
       "         18.71119065,  22.26836303,  25.82553541,  29.38270779,\n",
       "         32.93988017]),\n",
       " <a list of 20 Patch objects>)"
      ]
     },
     "execution_count": 24,
     "metadata": {},
     "output_type": "execute_result"
    },
    {
     "data": {
      "image/png": "[encoded data removed]",
      "text/plain": [
       "<Figure size 432x288 with 1 Axes>"
      ]
     },
     "metadata": {
      "needs_background": "light"
     },
     "output_type": "display_data"
    }
   ],
   "source": [
    "plt.hist(corr_lm.resid, bins=20)"
   ]
  },
  {
   "cell_type": "markdown",
   "metadata": {},
   "source": [
    "The distribution is quite normal confirming the validity of the model."
   ]
  },
  {
   "cell_type": "markdown",
   "metadata": {},
   "source": [
    "The following figure shows the residuals with respect to the fitted values."
   ]
  },
  {
   "cell_type": "code",
   "execution_count": 25,
   "metadata": {
    "scrolled": true
   },
   "outputs": [
    {
     "data": {
      "text/plain": [
       "<matplotlib.collections.PathCollection at 0x1e6483dec88>"
      ]
     },
     "execution_count": 25,
     "metadata": {},
     "output_type": "execute_result"
    },
    {
     "data": {
      "image/png": "[encoded data removed]",
      "text/plain": [
       "<Figure size 432x288 with 1 Axes>"
      ]
     },
     "metadata": {
      "needs_background": "light"
     },
     "output_type": "display_data"
    }
   ],
   "source": [
    "plt.scatter(corr_lm.fittedvalues, lm.resid)"
   ]
  },
  {
   "cell_type": "markdown",
   "metadata": {},
   "source": [
    "The variance of residuals is quite uniform accross fitted values and there is no significant pattern of residual variation across fitted values:"
   ]
  },
  {
   "cell_type": "markdown",
   "metadata": {},
   "source": [
    "### Prediction Accuracy"
   ]
  },
  {
   "cell_type": "markdown",
   "metadata": {},
   "source": [
    "The created model is used to predict 2016 election results. The accuracy of the prediction for 2016 is compared to that of 2012 based on which the model was built. The following figure visualizes the predition errors for different counties. The average error for 2016 stands higher than 2012."
   ]
  },
  {
   "cell_type": "code",
   "execution_count": 26,
   "metadata": {},
   "outputs": [
    {
     "data": {
      "text/plain": [
       "['White (Not Latino) Population',\n",
       " 'Children.in.single.parent.households',\n",
       " 'African American Population',\n",
       " 'Graduate Degree',\n",
       " 'Construction.extraction.maintenance.and.repair.occupations',\n",
       " 'Unemployment',\n",
       " 'Asian American Population',\n",
       " \"At Least Bachelors's Degree\",\n",
       " 'Votes',\n",
       " 'Violent.crime']"
      ]
     },
     "execution_count": 26,
     "metadata": {},
     "output_type": "execute_result"
    }
   ],
   "source": [
    "list(feature_list.values)"
   ]
  },
  {
   "cell_type": "code",
   "execution_count": 27,
   "metadata": {
    "scrolled": false
   },
   "outputs": [
    {
     "data": {
      "text/plain": [
       "<matplotlib.legend.Legend at 0x1e6462fbbc8>"
      ]
     },
     "execution_count": 27,
     "metadata": {},
     "output_type": "execute_result"
    },
    {
     "data": {
      "image/png": "[encoded data removed]",
      "text/plain": [
       "<Figure size 432x288 with 1 Axes>"
      ]
     },
     "metadata": {
      "needs_background": "light"
     },
     "output_type": "display_data"
    }
   ],
   "source": [
    "prediction = corr_lm.predict(sm.add_constant(data_df[list(feature_list.values)]))\n",
    "plt.figure()\n",
    "plt.plot(vote_df['Republicans12_VoteShare']-prediction, '.', label='2012')\n",
    "plt.plot(vote_df['Republicans16_VoteShare']-prediction, '.', label='2016')\n",
    "plt.xlabel('Counties')\n",
    "plt.ylabel('Prediction Error (%)')\n",
    "plt.legend()"
   ]
  },
  {
   "cell_type": "markdown",
   "metadata": {},
   "source": [
    "To obtain a quntitative measure of accuracy, a metric is used based on sum of error squares as $\\sqrt\\frac{\\sum_{i=1}^N e_i^2}{N}$ where $e$ represents prediction error, $i$ denotes the index of the county, and $N$ designates the total number of counties (i.e., 3141). This metric is in the same unit as error which in turn has common units with the vote share (i.e., %). It is impremented as below and the results for 2012 and 2016 are visualized for comparison using a horzontal bar chart."
   ]
  },
  {
   "cell_type": "code",
   "execution_count": 28,
   "metadata": {
    "scrolled": true
   },
   "outputs": [
    {
     "data": {
      "text/plain": [
       "Text(0, 0.5, 'Election Year')"
      ]
     },
     "execution_count": 28,
     "metadata": {},
     "output_type": "execute_result"
    },
    {
     "data": {
      "image/png": "[encoded data removed]",
      "text/plain": [
       "<Figure size 432x288 with 1 Axes>"
      ]
     },
     "metadata": {
      "needs_background": "light"
     },
     "output_type": "display_data"
    }
   ],
   "source": [
    "error12 = np.sqrt(np.mean(np.power(vote_df['Republicans12_VoteShare']-prediction,2)))\n",
    "error16 = np.sqrt(np.mean(np.power(vote_df['Republicans16_VoteShare']-prediction,2)))\n",
    "plt.barh(['2012', '2016'], [error12, error16])\n",
    "plt.xlabel('Prediction Error (%)')\n",
    "plt.ylabel('Election Year')"
   ]
  },
  {
   "cell_type": "markdown",
   "metadata": {},
   "source": [
    "The prediction error is about 12% which is a reasonable performance. Furthermore, the prediction error is better for 2012 than 2016 because the model is built on 2012 data. This result is also compatible with prediction error scatter plot shown above."
   ]
  },
  {
   "cell_type": "markdown",
   "metadata": {},
   "source": [
    "## Model Evaluation"
   ]
  },
  {
   "cell_type": "markdown",
   "metadata": {},
   "source": [
    "This section describes methods used to evaluated the model. First, performance results from the OLS regression algorithm are analyzed and compared with the full feature model. Then, normality and homoscdacticity of the residuals are visualized and analyzed."
   ]
  },
  {
   "cell_type": "markdown",
   "metadata": {},
   "source": [
    "### $R^2$ Performance"
   ]
  },
  {
   "cell_type": "markdown",
   "metadata": {},
   "source": [
    "The performance measured by $R^2$ is reduced to 0.329; however, all remaining features are statistically significant with very nigligible p-values."
   ]
  },
  {
   "cell_type": "markdown",
   "metadata": {},
   "source": [
    "### Normality and Homoscdacity of Residuals"
   ]
  },
  {
   "cell_type": "markdown",
   "metadata": {},
   "source": [
    "The distribution of residuals of the model is obtained as follows:"
   ]
  },
  {
   "cell_type": "code",
   "execution_count": 29,
   "metadata": {},
   "outputs": [
    {
     "data": {
      "text/plain": [
       "(array([  7.,   6.,  23.,  42.,  50.,  95., 151., 202., 298., 329., 394.,\n",
       "        401., 381., 317., 229., 119.,  55.,  32.,   6.,   4.]),\n",
       " array([-38.20356745, -34.64639507, -31.08922268, -27.5320503 ,\n",
       "        -23.97487792, -20.41770554, -16.86053316, -13.30336078,\n",
       "         -9.7461884 ,  -6.18901602,  -2.63184364,   0.92532874,\n",
       "          4.48250112,   8.0396735 ,  11.59684588,  15.15401827,\n",
       "         18.71119065,  22.26836303,  25.82553541,  29.38270779,\n",
       "         32.93988017]),\n",
       " <a list of 20 Patch objects>)"
      ]
     },
     "execution_count": 29,
     "metadata": {},
     "output_type": "execute_result"
    },
    {
     "data": {
      "image/png": "[encoded data removed]",
      "text/plain": [
       "<Figure size 432x288 with 1 Axes>"
      ]
     },
     "metadata": {
      "needs_background": "light"
     },
     "output_type": "display_data"
    }
   ],
   "source": [
    "plt.hist(corr_lm.resid, bins=20)"
   ]
  },
  {
   "cell_type": "markdown",
   "metadata": {},
   "source": [
    "The distribution is quite normal confirming the validity of the model."
   ]
  },
  {
   "cell_type": "markdown",
   "metadata": {},
   "source": [
    "The following figure shows the residuals with respect to the fitted values."
   ]
  },
  {
   "cell_type": "code",
   "execution_count": 30,
   "metadata": {
    "scrolled": true
   },
   "outputs": [
    {
     "data": {
      "text/plain": [
       "<matplotlib.collections.PathCollection at 0x1e6485d6808>"
      ]
     },
     "execution_count": 30,
     "metadata": {},
     "output_type": "execute_result"
    },
    {
     "data": {
      "image/png": "[encoded data removed]",
      "text/plain": [
       "<Figure size 432x288 with 1 Axes>"
      ]
     },
     "metadata": {
      "needs_background": "light"
     },
     "output_type": "display_data"
    }
   ],
   "source": [
    "plt.scatter(corr_lm.fittedvalues, lm.resid)"
   ]
  },
  {
   "cell_type": "markdown",
   "metadata": {},
   "source": [
    "The variance of residuals is quite uniform accross fitted values and there is no significant pattern of residual variation across fitted values:"
   ]
  },
  {
   "cell_type": "markdown",
   "metadata": {},
   "source": [
    "### Prediction Accuracy"
   ]
  },
  {
   "cell_type": "markdown",
   "metadata": {},
   "source": [
    "The created model is used to predict 2016 election results. The accuracy of the prediction for 2016 is compared to that of 2012 based on which the model was built. The following figure visualizes the predition errors for different counties. The average error for 2016 stands higher than 2012."
   ]
  },
  {
   "cell_type": "code",
   "execution_count": 31,
   "metadata": {},
   "outputs": [
    {
     "data": {
      "text/plain": [
       "['White (Not Latino) Population',\n",
       " 'Children.in.single.parent.households',\n",
       " 'African American Population',\n",
       " 'Graduate Degree',\n",
       " 'Construction.extraction.maintenance.and.repair.occupations',\n",
       " 'Unemployment',\n",
       " 'Asian American Population',\n",
       " \"At Least Bachelors's Degree\",\n",
       " 'Votes',\n",
       " 'Violent.crime']"
      ]
     },
     "execution_count": 31,
     "metadata": {},
     "output_type": "execute_result"
    }
   ],
   "source": [
    "list(feature_list.values)"
   ]
  },
  {
   "cell_type": "code",
   "execution_count": 32,
   "metadata": {
    "scrolled": false
   },
   "outputs": [
    {
     "data": {
      "text/plain": [
       "<matplotlib.legend.Legend at 0x1e648431708>"
      ]
     },
     "execution_count": 32,
     "metadata": {},
     "output_type": "execute_result"
    },
    {
     "data": {
      "image/png": "[encoded data removed]",
      "text/plain": [
       "<Figure size 432x288 with 1 Axes>"
      ]
     },
     "metadata": {
      "needs_background": "light"
     },
     "output_type": "display_data"
    }
   ],
   "source": [
    "prediction = corr_lm.predict(sm.add_constant(data_df[list(feature_list.values)]))\n",
    "plt.figure()\n",
    "plt.plot(vote_df['Republicans12_VoteShare']-prediction, '.', label='2012')\n",
    "plt.plot(vote_df['Republicans16_VoteShare']-prediction, '.', label='2016')\n",
    "plt.xlabel('Counties')\n",
    "plt.ylabel('Prediction Error (%)')\n",
    "plt.legend()"
   ]
  },
  {
   "cell_type": "markdown",
   "metadata": {},
   "source": [
    "To obtain a quntitative measure of accuracy, a metric is used based on sum of error squares as $\\sqrt\\frac{\\sum_{i=1}^N e_i^2}{N}$ where $e$ represents prediction error, $i$ denotes the index of the county, and $N$ designates the total number of counties (i.e., 3141). This metric is in the same unit as error which in turn has common units with the vote share (i.e., %). It is impremented as below and the results for 2012 and 2016 are visualized for comparison using a horzontal bar chart."
   ]
  },
  {
   "cell_type": "code",
   "execution_count": 35,
   "metadata": {
    "scrolled": true
   },
   "outputs": [
    {
     "data": {
      "text/plain": [
       "Text(0, 0.5, 'Election Year')"
      ]
     },
     "execution_count": 35,
     "metadata": {},
     "output_type": "execute_result"
    },
    {
     "data": {
      "image/png": "[encoded data removed]",
      "text/plain": [
       "<Figure size 432x288 with 1 Axes>"
      ]
     },
     "metadata": {
      "needs_background": "light"
     },
     "output_type": "display_data"
    }
   ],
   "source": [
    "error12 = np.sqrt(np.mean(np.power(vote_df['Republicans12_VoteShare']-prediction,2)))\n",
    "error16 = np.sqrt(np.mean(np.power(vote_df['Republicans16_VoteShare']-prediction,2)))\n",
    "plt.barh(['2012', '2016'], [error12, error16])\n",
    "plt.xlabel('Prediction Error (%)')\n",
    "plt.ylabel('Election Year')"
   ]
  },
  {
   "cell_type": "markdown",
   "metadata": {},
   "source": [
    "The prediction error is about 12% which is a reasonable performance. Furthermore, the prediction error is better for 2012 than 2016 because the model is built on 2012 data. This result is also compatible with prediction error scatter plot shown above."
   ]
  },
  {
   "cell_type": "markdown",
   "metadata": {},
   "source": [
    "The prediction error is about 12% which is a reasonable performance. Furthermore, the prediction error is better for 2012 than 2016 because the model is built on 2012 data. This result is also compatible with prediction error scatter plot shown above."
   ]
  },
  {
   "cell_type": "markdown",
   "metadata": {},
   "source": [
    "## Variance Inflation Factor (VIF)-based Variable Selection"
   ]
  },
  {
   "cell_type": "markdown",
   "metadata": {},
   "source": [
    "To elminiate multicolinearity and achieve a statisticallly significant model, features most predictable by other features are removed using variacne inflation factor as the metric. The flow chart of the process is shown in the figure below."
   ]
  },
  {
   "cell_type": "markdown",
   "metadata": {},
   "source": [
    "<img src='Image/Flow_Chart.png' style='height:450px'/>"
   ]
  },
  {
   "cell_type": "markdown",
   "metadata": {},
   "source": [
    "This procedure is implemented thorough following while loop:"
   ]
  },
  {
   "cell_type": "code",
   "execution_count": null,
   "metadata": {},
   "outputs": [],
   "source": [
    "coef_table = lm.summary().tables[1] \n",
    "coef_df = pd.DataFrame(data=coef_table.data[1:], columns = coef_table.data[0])\n",
    "coef_df['coef'] = coef_df['coef'].astype(float)\n",
    "coef_df['P>|t|'] = coef_df['P>|t|'].astype(float)\n",
    "lm.summary()\n",
    "\n",
    "while not coef_df[coef_df['P>|t|'] >= 0.05].empty: # check wether there are any coefficient with p-value > 5%\n",
    "\n",
    "    # calculate VIF for available features\n",
    "    vif_series = pd.Series([variance_inflation_factor(demo_df.values, i) for i in range(demo_df.shape[1])], index=demo_df.columns)\n",
    "    vif_series.sort_values(ascending = False, inplace = True) # rank features in descending order of VIF\n",
    "    vif_series\n",
    "\n",
    "    demo_df.drop(vif_series.index[0], axis = 1, inplace = True) # remove the feature with highest VIF\n",
    "    lm = sm.OLS(vote_df['Republicans12_VoteShare'], sm.add_constant(demo_df)).fit() # create model with available features\n",
    "    lm.summary()\n",
    "    \n",
    "    coef_table = lm.summary().tables[1] # extract numeric values for p-value from OLS regression results table\n",
    "    coef_df = pd.DataFrame(data=coef_table.data[1:], columns = coef_table.data[0])\n",
    "    coef_df['coef'] = coef_df['coef'].astype(float)\n",
    "    coef_df['P>|t|'] = coef_df['P>|t|'].astype(float)\n",
    "    coef_df[coef_df['P>|t|'] >= 0.05]\n",
    "    \n",
    "vif_lm = lm"
   ]
  },
  {
   "cell_type": "markdown",
   "metadata": {},
   "source": [
    "The following tables show the model parameters and performance metrics for the final model after the last iteration:"
   ]
  },
  {
   "cell_type": "code",
   "execution_count": null,
   "metadata": {
    "scrolled": false
   },
   "outputs": [],
   "source": [
    "vif_lm.summary()"
   ]
  },
  {
   "cell_type": "markdown",
   "metadata": {},
   "source": [
    "The coefficient table shows that out of 40 demographic factors, only 6 are remaining after the iterations; however, all p-values associated with these factors are statistically significant. Comparing with the correlation-based model with 11 DOF, it can be inferred that the VIF criteria has not been the most efficient in eliminating multicolinearities. Furthermore, $R^2$ is considerably lower for this model. Table below summarizes the $R^2$ and adjusted $R^2$ values for the models:"
   ]
  },
  {
   "cell_type": "markdown",
   "metadata": {},
   "source": [
    "||Full|Corr.|VIF|\n",
    "|-|-|-|-|\n",
    "|$R^2$|0.706|0.465|0.329|\n",
    "|adj$R^2$|0.702|0.463|0.328|"
   ]
  },
  {
   "cell_type": "markdown",
   "metadata": {},
   "source": [
    "The following figure visualizes the effect of each parameter on the republican vote share:"
   ]
  },
  {
   "cell_type": "code",
   "execution_count": null,
   "metadata": {
    "scrolled": false
   },
   "outputs": [],
   "source": [
    "coef_df.rename({'':'demo_factor'}, axis = 'columns', inplace=True)\n",
    "coef_df['abs_coef'] = np.abs(coef_df['coef']) \n",
    "coef_df.sort_values(by = 'abs_coef', ascending = False, inplace = True)\n",
    "coef_df.drop(0, axis = 'index', inplace = True)\n",
    "\n",
    "bar_label = coef_df['demo_factor']\n",
    "bar_length = coef_df['coef']\n",
    "bar_color = np.where(bar_length > 0, 'blue', 'red')\n",
    "plt.barh(bar_label, bar_length, color = bar_color)\n",
    "plt.title('Effect of Important Demographic Factors on Election Results')\n",
    "plt.xlabel('Demographic Factor')\n",
    "plt.ylabel('Coefficient')"
   ]
  },
  {
   "cell_type": "markdown",
   "metadata": {},
   "source": [
    "Asian american population has the largest nagative impact while farming, fishing, and forestry occupations is the only factor with positive effect. The top affecting factors, although not unreasonable, does not include many intuitive factors. For instance, white population is expected to have a considerable effect; however, it does not appear simply because it was the most predictable with rest of the factors in this dataset. Therefore, VIF-based method seems to have the drawback of killing the intuition in analytics as a cost for the systematic procedure."
   ]
  }
 ],
 "metadata": {
  "kernelspec": {
   "display_name": "Python 3",
   "language": "python",
   "name": "python3"
  },
  "language_info": {
   "codemirror_mode": {
    "name": "ipython",
    "version": 3
   },
   "file_extension": ".py",
   "mimetype": "text/x-python",
   "name": "python",
   "nbconvert_exporter": "python",
   "pygments_lexer": "ipython3",
   "version": "3.7.4"
  }
 },
 "nbformat": 4,
 "nbformat_minor": 2
}
